{
 "cells": [
  {
   "cell_type": "code",
   "execution_count": 3,
   "metadata": {},
   "outputs": [],
   "source": [
    "# Initial Imports\n",
    "import pandas as pd\n",
    "import numpy as np\n",
    "import spotipy\n",
    "from spotipy.oauth2 import SpotifyClientCredentials\n",
    "import spotipy"
   ]
  },
  {
   "cell_type": "code",
   "execution_count": 108,
   "metadata": {},
   "outputs": [],
   "source": [
    "# Read in lyrics data\n",
    "lyrics = pd.read_csv(\"data/songdata.csv\")"
   ]
  },
  {
   "cell_type": "code",
   "execution_count": 1,
   "metadata": {},
   "outputs": [],
   "source": [
    "# Required columns\n",
    "cols=['song', 'artist', 'trackid', 'danceability', 'energy', 'key', 'mode', \n",
    "      'speechiness', 'acousticness', 'instrumentalness', 'liveness', \n",
    "      'valence', 'tempo', 'duration_ms', 'time_signature',\n",
    "     'duration', 'analysis_sample_rate', 'analysis_channels', \n",
    "      'end_of_fade_in', 'start_of_fade_out', 'loudness', 'tempo', 'tempo_confidence', \n",
    "      'time_signature', 'time_signature_confidence', 'key', 'key_confidence', 'mode', 'mode_confidence']"
   ]
  },
  {
   "cell_type": "code",
   "execution_count": 4,
   "metadata": {},
   "outputs": [],
   "source": [
    "cols = list(np.unique(cols))"
   ]
  },
  {
   "cell_type": "code",
   "execution_count": 5,
   "metadata": {},
   "outputs": [],
   "source": [
    "# Creating dataframe for audio features\n",
    "features=pd.DataFrame(columns=cols)"
   ]
  },
  {
   "cell_type": "code",
   "execution_count": 111,
   "metadata": {},
   "outputs": [],
   "source": [
    "artists = ['Eminem', 'Passenger', 'Bruno Mars', 'Coldplay', 'Ozzy Osbourne', 'Slayer','Metallica','Beatles','Dire Straits' ,'Radiohead', 'Taylor Swift', 'Aerosmith','Ed Sheeran', 'Drake', 'Pink Floyd', 'Queen', 'Billy Joel', 'Iron Maiden', 'Black Sabbath','Green Day' ]"
   ]
  },
  {
   "cell_type": "code",
   "execution_count": 112,
   "metadata": {},
   "outputs": [],
   "source": [
    "songs = ['Let It Be', 'Let Her Go','Hey Jude', '', 'Marry You','Yellow', 'The Lazy Song','Norwegian Wood', 'Wonderful Tonight',  'Imagine', 'I Knew You Were Trouble', 'Love Story', 'A Team', 'Sing', 'Bohemian Rhapsody', 'Electric Funeral', 'Valhalla', 'American Idiot', 'Angel Of Death', 'War Pigs', 'The Trooper']"
   ]
  },
  {
   "cell_type": "code",
   "execution_count": 114,
   "metadata": {},
   "outputs": [],
   "source": [
    "# Filtering on artist\n",
    "lyrics = lyrics[lyrics.artist.isin(artists)]\n",
    "# Select songs based on the list of songs or a list of artists or both\n",
    "songs_selected = lyrics[lyrics.song.isin(songs)]"
   ]
  },
  {
   "cell_type": "code",
   "execution_count": 115,
   "metadata": {},
   "outputs": [
    {
     "data": {
      "text/plain": [
       "(16, 4)"
      ]
     },
     "execution_count": 115,
     "metadata": {},
     "output_type": "execute_result"
    }
   ],
   "source": [
    "songs_selected.shape"
   ]
  },
  {
   "cell_type": "code",
   "execution_count": 116,
   "metadata": {},
   "outputs": [],
   "source": [
    "# sample dataframe is used for all analysis here on\n",
    "sample = songs_selected\n",
    "sample.reset_index(inplace=True)"
   ]
  },
  {
   "cell_type": "code",
   "execution_count": 166,
   "metadata": {},
   "outputs": [
    {
     "data": {
      "text/plain": [
       "['Electric Funeral',\n",
       " 'Marry You',\n",
       " 'The Lazy Song',\n",
       " 'Yellow',\n",
       " 'Wonderful Tonight',\n",
       " 'American Idiot',\n",
       " 'War Pigs',\n",
       " 'Let Her Go',\n",
       " 'Angel Of Death',\n",
       " 'I Knew You Were Trouble',\n",
       " 'Love Story',\n",
       " 'Valhalla',\n",
       " 'A Team',\n",
       " 'Sing',\n",
       " 'The Trooper',\n",
       " 'Bohemian Rhapsody']"
      ]
     },
     "execution_count": 166,
     "metadata": {},
     "output_type": "execute_result"
    }
   ],
   "source": [
    "list(sample['song'])"
   ]
  },
  {
   "cell_type": "code",
   "execution_count": 6,
   "metadata": {},
   "outputs": [
    {
     "ename": "NameError",
     "evalue": "name 'sample' is not defined",
     "output_type": "error",
     "traceback": [
      "\u001b[0;31m---------------------------------------------------------------------------\u001b[0m",
      "\u001b[0;31mNameError\u001b[0m                                 Traceback (most recent call last)",
      "\u001b[0;32m<ipython-input-6-d0746ec5c284>\u001b[0m in \u001b[0;36m<module>\u001b[0;34m()\u001b[0m\n\u001b[1;32m      7\u001b[0m \u001b[0msp\u001b[0m \u001b[0;34m=\u001b[0m \u001b[0mspotipy\u001b[0m\u001b[0;34m.\u001b[0m\u001b[0mSpotify\u001b[0m\u001b[0;34m(\u001b[0m\u001b[0mclient_credentials_manager\u001b[0m\u001b[0;34m=\u001b[0m\u001b[0mclient_credentials_manager\u001b[0m\u001b[0;34m)\u001b[0m\u001b[0;34m\u001b[0m\u001b[0m\n\u001b[1;32m      8\u001b[0m \u001b[0;34m\u001b[0m\u001b[0m\n\u001b[0;32m----> 9\u001b[0;31m \u001b[0;32mfor\u001b[0m \u001b[0mindex\u001b[0m\u001b[0;34m,\u001b[0m\u001b[0mrow\u001b[0m \u001b[0;32min\u001b[0m \u001b[0msample\u001b[0m\u001b[0;34m.\u001b[0m\u001b[0miterrows\u001b[0m\u001b[0;34m(\u001b[0m\u001b[0;34m)\u001b[0m\u001b[0;34m:\u001b[0m\u001b[0;34m\u001b[0m\u001b[0m\n\u001b[0m\u001b[1;32m     10\u001b[0m     \u001b[0msong\u001b[0m \u001b[0;34m=\u001b[0m \u001b[0mrow\u001b[0m\u001b[0;34m[\u001b[0m\u001b[0;34m'song'\u001b[0m\u001b[0;34m]\u001b[0m\u001b[0;34m\u001b[0m\u001b[0m\n\u001b[1;32m     11\u001b[0m \u001b[0;34m\u001b[0m\u001b[0m\n",
      "\u001b[0;31mNameError\u001b[0m: name 'sample' is not defined"
     ]
    }
   ],
   "source": [
    "# Get audio features for the songs in the sample dataframe\n",
    "# Client Credentials\n",
    "client_id = \"5fc0da4106eb48e1913868f4950828fb\"\n",
    "client_secret = \"5a549bc4674e47dfaf3b06da4500a44d\"\n",
    "\n",
    "client_credentials_manager = SpotifyClientCredentials(client_id=client_id, client_secret=client_secret)\n",
    "sp = spotipy.Spotify(client_credentials_manager=client_credentials_manager)\n",
    "\n",
    "for index,row in sample.iterrows():\n",
    "    song = row['song']\n",
    "    \n",
    "    temp = pd.DataFrame(columns = cols)\n",
    "    temp['song'] = [song]\n",
    "    temp['artist'] = [row['artist']]\n",
    "    \n",
    "    try:\n",
    "        result = sp.search(song, type='track', limit=1)\n",
    "\n",
    "    except:\n",
    "        print('SOme error')\n",
    "        continue\n",
    "        \n",
    "    if len(result['tracks']['items']) == 0:\n",
    "        continue\n",
    "    \n",
    "    trackid=result['tracks']['items'][0]['id']\n",
    "    temp['trackid'] = [trackid]\n",
    "    \n",
    "    try:\n",
    "        feat=sp.audio_features(trackid)[0]\n",
    "        analysis=sp.audio_analysis(trackid)['track']\n",
    "    except error as e:\n",
    "        print(e)\n",
    "        continue\n",
    "    \n",
    "    combined = {**feat, **analysis}\n",
    "    \n",
    "    for col in cols:\n",
    "        if col in ['song', 'artist', 'trackid']:\n",
    "            continue\n",
    "        temp[col]= combined[col]\n",
    "        \n",
    "    features = features.append(temp, ignore_index=True)"
   ]
  },
  {
   "cell_type": "code",
   "execution_count": 119,
   "metadata": {},
   "outputs": [],
   "source": [
    "features = features.T.drop_duplicates().T"
   ]
  },
  {
   "cell_type": "code",
   "execution_count": 120,
   "metadata": {},
   "outputs": [
    {
     "name": "stdout",
     "output_type": "stream",
     "text": [
      "[nltk_data] Downloading package punkt to /home/aman/nltk_data...\n",
      "[nltk_data]   Package punkt is already up-to-date!\n"
     ]
    }
   ],
   "source": [
    "# Getting word vectors\n",
    "import nltk\n",
    "nltk.download('punkt')\n",
    "from nltk.tokenize import RegexpTokenizer\n",
    "\n",
    "# Getting all text for training own word vectors\n",
    "all_text = ' '.join(lyrics.text)\n",
    "all_text = all_text.replace('\\n', '')\n",
    "sent_text = nltk.sent_tokenize(all_text)"
   ]
  },
  {
   "cell_type": "code",
   "execution_count": 121,
   "metadata": {},
   "outputs": [],
   "source": [
    "# Training and saving the word vec model\n",
    "wv_dimension = 20\n",
    "\n",
    "tokenizer = RegexpTokenizer(r'\\w+').tokenize\n",
    "\n",
    "sent_tokenized = []\n",
    "for sent in sent_text:\n",
    "    sent_tokenized.append(tokenizer(sent))\n",
    "    \n",
    "from gensim.models import Word2Vec\n",
    "from gensim.test.utils import common_texts, get_tmpfile\n",
    "\n",
    "path = get_tmpfile(\"word2vec.model\")\n",
    "model = Word2Vec(sent_tokenized, size=wv_dimension, window=5, min_count=3, workers=4)\n",
    "\n",
    "model.save(\"word2vec.model\")"
   ]
  },
  {
   "cell_type": "code",
   "execution_count": 122,
   "metadata": {},
   "outputs": [
    {
     "name": "stderr",
     "output_type": "stream",
     "text": [
      "/home/aman/anaconda3/lib/python3.6/site-packages/ipykernel_launcher.py:10: DeprecationWarning: Call to deprecated `__getitem__` (Method will be removed in 4.0.0, use self.wv.__getitem__() instead).\n",
      "  # Remove the CWD from sys.path while we load stuff.\n",
      "/home/aman/anaconda3/lib/python3.6/site-packages/ipykernel_launcher.py:14: RuntimeWarning: invalid value encountered in true_divide\n",
      "  \n"
     ]
    }
   ],
   "source": [
    "# Finding wv representation for the lyrics in the dataframe sample\n",
    "# Creating a dataframe wv with the word vectors\n",
    "wv = []\n",
    "for lyr in sample.text:\n",
    "    vec = [0] * wv_dimension\n",
    "    c = 0\n",
    "    words = tokenizer(lyr)\n",
    "    for word in words:\n",
    "        try:\n",
    "            vec = vec + model[word]\n",
    "            c = c + 1\n",
    "        except:\n",
    "            vec = vec + [0] * wv_dimension\n",
    "    vec = np.array(vec) / c\n",
    "    wv.append(vec)"
   ]
  },
  {
   "cell_type": "code",
   "execution_count": 123,
   "metadata": {},
   "outputs": [],
   "source": [
    "# Naimg the columns in wv to 1-wv_dimension\n",
    "req_cols = list(range(wv_dimension))\n",
    "wv_df = pd.DataFrame(wv)[req_cols]\n",
    "wv_df['song'] = sample['song']"
   ]
  },
  {
   "cell_type": "code",
   "execution_count": 124,
   "metadata": {},
   "outputs": [],
   "source": [
    "# wv_df.to_csv('word_vectors_songs.csv', index=None)"
   ]
  },
  {
   "cell_type": "code",
   "execution_count": 125,
   "metadata": {},
   "outputs": [],
   "source": [
    "# Making a copy for preservation\n",
    "features_copy = features.copy()"
   ]
  },
  {
   "cell_type": "code",
   "execution_count": 126,
   "metadata": {},
   "outputs": [],
   "source": [
    "# Merging features and wv to get dataframe with audio features and the word vectors\n",
    "df_all = pd.merge(features, wv_df, how='left', on='song')\n",
    "# Removing empty rows\n",
    "df_all = df_all[df_all['trackid'] != 'NA']"
   ]
  },
  {
   "cell_type": "code",
   "execution_count": 127,
   "metadata": {},
   "outputs": [],
   "source": [
    "# Drop rows with NA values\n",
    "df_all = df_all.dropna()"
   ]
  },
  {
   "cell_type": "code",
   "execution_count": 128,
   "metadata": {},
   "outputs": [],
   "source": [
    "df_all.reset_index(inplace=True, drop=True)"
   ]
  },
  {
   "cell_type": "code",
   "execution_count": 129,
   "metadata": {},
   "outputs": [],
   "source": [
    "# Get a list of column in the consolidated dataframe\n",
    "cols = list(df_all.columns)"
   ]
  },
  {
   "cell_type": "code",
   "execution_count": 130,
   "metadata": {},
   "outputs": [],
   "source": [
    "# Remove columns not required for clustering\n",
    "cols.remove('song')\n",
    "cols.remove('artist')\n",
    "cols.remove('trackid')"
   ]
  },
  {
   "cell_type": "code",
   "execution_count": 131,
   "metadata": {},
   "outputs": [
    {
     "data": {
      "text/plain": [
       "(14, 45)"
      ]
     },
     "execution_count": 131,
     "metadata": {},
     "output_type": "execute_result"
    }
   ],
   "source": [
    "df_all.shape"
   ]
  },
  {
   "cell_type": "code",
   "execution_count": 132,
   "metadata": {},
   "outputs": [
    {
     "name": "stderr",
     "output_type": "stream",
     "text": [
      "/home/aman/anaconda3/lib/python3.6/site-packages/sklearn/utils/validation.py:475: DataConversionWarning: Data with input dtype object was converted to float64 by MinMaxScaler.\n",
      "  warnings.warn(msg, DataConversionWarning)\n"
     ]
    }
   ],
   "source": [
    "# Scaling the dataframe \n",
    "from sklearn import preprocessing\n",
    "\n",
    "x = df_all[cols].values #returns a numpy array\n",
    "min_max_scaler = preprocessing.MinMaxScaler()\n",
    "x_scaled = min_max_scaler.fit_transform(x)\n",
    "df = pd.DataFrame(x_scaled)\n",
    "\n",
    "# Adding song and artist to the scaled dataframe\n",
    "df.columns = cols\n",
    "df['song'] = df_all['song']\n",
    "df['artist'] = df_all['artist']"
   ]
  },
  {
   "cell_type": "code",
   "execution_count": 133,
   "metadata": {},
   "outputs": [],
   "source": [
    "# Removing unnecessary columns from the list of columns for clustering\n",
    "dfcols = list(df.columns)\n",
    "dfcols.remove('song')\n",
    "dfcols.remove('artist')"
   ]
  },
  {
   "cell_type": "code",
   "execution_count": 157,
   "metadata": {},
   "outputs": [],
   "source": [
    "# Perform Kmeans on the consolidated scaled dataset\n",
    "from sklearn.cluster import KMeans\n",
    "kmeans = KMeans(n_clusters=3, random_state=0).fit(df[dfcols])\n",
    "df['label'] = kmeans.labels_"
   ]
  },
  {
   "cell_type": "code",
   "execution_count": 158,
   "metadata": {},
   "outputs": [
    {
     "data": {
      "text/plain": [
       "array([0, 2, 1])"
      ]
     },
     "execution_count": 158,
     "metadata": {},
     "output_type": "execute_result"
    }
   ],
   "source": [
    "df.label.unique()"
   ]
  },
  {
   "cell_type": "code",
   "execution_count": 159,
   "metadata": {},
   "outputs": [
    {
     "data": {
      "text/html": [
       "<div>\n",
       "<style scoped>\n",
       "    .dataframe tbody tr th:only-of-type {\n",
       "        vertical-align: middle;\n",
       "    }\n",
       "\n",
       "    .dataframe tbody tr th {\n",
       "        vertical-align: top;\n",
       "    }\n",
       "\n",
       "    .dataframe thead th {\n",
       "        text-align: right;\n",
       "    }\n",
       "</style>\n",
       "<table border=\"1\" class=\"dataframe\">\n",
       "  <thead>\n",
       "    <tr style=\"text-align: right;\">\n",
       "      <th></th>\n",
       "      <th>danceability</th>\n",
       "      <th>energy</th>\n",
       "      <th>key</th>\n",
       "      <th>mode</th>\n",
       "      <th>speechiness</th>\n",
       "      <th>acousticness</th>\n",
       "      <th>instrumentalness</th>\n",
       "      <th>liveness</th>\n",
       "      <th>valence</th>\n",
       "      <th>tempo</th>\n",
       "      <th>...</th>\n",
       "      <th>13</th>\n",
       "      <th>14</th>\n",
       "      <th>15</th>\n",
       "      <th>16</th>\n",
       "      <th>17</th>\n",
       "      <th>18</th>\n",
       "      <th>19</th>\n",
       "      <th>song</th>\n",
       "      <th>artist</th>\n",
       "      <th>label</th>\n",
       "    </tr>\n",
       "  </thead>\n",
       "  <tbody>\n",
       "    <tr>\n",
       "      <th>4</th>\n",
       "      <td>0.144201</td>\n",
       "      <td>0.989770</td>\n",
       "      <td>0.0</td>\n",
       "      <td>1.0</td>\n",
       "      <td>0.222222</td>\n",
       "      <td>0.000000</td>\n",
       "      <td>0.000609</td>\n",
       "      <td>0.652610</td>\n",
       "      <td>0.793412</td>\n",
       "      <td>1.000000</td>\n",
       "      <td>...</td>\n",
       "      <td>0.147781</td>\n",
       "      <td>0.750268</td>\n",
       "      <td>0.000000</td>\n",
       "      <td>0.891171</td>\n",
       "      <td>0.693891</td>\n",
       "      <td>0.278980</td>\n",
       "      <td>0.424434</td>\n",
       "      <td>American Idiot</td>\n",
       "      <td>Green Day</td>\n",
       "      <td>1</td>\n",
       "    </tr>\n",
       "    <tr>\n",
       "      <th>5</th>\n",
       "      <td>0.068966</td>\n",
       "      <td>0.523018</td>\n",
       "      <td>0.8</td>\n",
       "      <td>0.0</td>\n",
       "      <td>0.327553</td>\n",
       "      <td>0.331812</td>\n",
       "      <td>0.006845</td>\n",
       "      <td>0.471888</td>\n",
       "      <td>0.388270</td>\n",
       "      <td>0.968683</td>\n",
       "      <td>...</td>\n",
       "      <td>0.269291</td>\n",
       "      <td>0.730286</td>\n",
       "      <td>0.321858</td>\n",
       "      <td>0.000000</td>\n",
       "      <td>0.801659</td>\n",
       "      <td>0.373867</td>\n",
       "      <td>0.207750</td>\n",
       "      <td>War Pigs</td>\n",
       "      <td>Ozzy Osbourne</td>\n",
       "      <td>1</td>\n",
       "    </tr>\n",
       "    <tr>\n",
       "      <th>9</th>\n",
       "      <td>0.319749</td>\n",
       "      <td>1.000000</td>\n",
       "      <td>0.5</td>\n",
       "      <td>1.0</td>\n",
       "      <td>1.000000</td>\n",
       "      <td>0.000090</td>\n",
       "      <td>0.000000</td>\n",
       "      <td>0.795181</td>\n",
       "      <td>0.000000</td>\n",
       "      <td>0.450484</td>\n",
       "      <td>...</td>\n",
       "      <td>0.445135</td>\n",
       "      <td>1.000000</td>\n",
       "      <td>0.016830</td>\n",
       "      <td>0.508237</td>\n",
       "      <td>1.000000</td>\n",
       "      <td>0.807716</td>\n",
       "      <td>0.000000</td>\n",
       "      <td>Valhalla</td>\n",
       "      <td>Black Sabbath</td>\n",
       "      <td>1</td>\n",
       "    </tr>\n",
       "    <tr>\n",
       "      <th>10</th>\n",
       "      <td>0.554859</td>\n",
       "      <td>0.095908</td>\n",
       "      <td>0.8</td>\n",
       "      <td>1.0</td>\n",
       "      <td>0.047527</td>\n",
       "      <td>1.000000</td>\n",
       "      <td>0.000000</td>\n",
       "      <td>0.275100</td>\n",
       "      <td>0.377941</td>\n",
       "      <td>0.090805</td>\n",
       "      <td>...</td>\n",
       "      <td>0.422126</td>\n",
       "      <td>0.917711</td>\n",
       "      <td>0.076100</td>\n",
       "      <td>0.686760</td>\n",
       "      <td>0.683270</td>\n",
       "      <td>0.650661</td>\n",
       "      <td>0.368161</td>\n",
       "      <td>A Team</td>\n",
       "      <td>Ed Sheeran</td>\n",
       "      <td>1</td>\n",
       "    </tr>\n",
       "    <tr>\n",
       "      <th>12</th>\n",
       "      <td>0.000000</td>\n",
       "      <td>0.831202</td>\n",
       "      <td>0.3</td>\n",
       "      <td>0.0</td>\n",
       "      <td>0.244059</td>\n",
       "      <td>0.025672</td>\n",
       "      <td>0.439535</td>\n",
       "      <td>1.000000</td>\n",
       "      <td>0.623551</td>\n",
       "      <td>0.785283</td>\n",
       "      <td>...</td>\n",
       "      <td>0.551000</td>\n",
       "      <td>0.850327</td>\n",
       "      <td>0.267092</td>\n",
       "      <td>0.824507</td>\n",
       "      <td>0.866925</td>\n",
       "      <td>0.763042</td>\n",
       "      <td>0.339123</td>\n",
       "      <td>The Trooper</td>\n",
       "      <td>Iron Maiden</td>\n",
       "      <td>1</td>\n",
       "    </tr>\n",
       "  </tbody>\n",
       "</table>\n",
       "<p>5 rows × 45 columns</p>\n",
       "</div>"
      ],
      "text/plain": [
       "    danceability    energy  key  mode  speechiness  acousticness  \\\n",
       "4       0.144201  0.989770  0.0   1.0     0.222222      0.000000   \n",
       "5       0.068966  0.523018  0.8   0.0     0.327553      0.331812   \n",
       "9       0.319749  1.000000  0.5   1.0     1.000000      0.000090   \n",
       "10      0.554859  0.095908  0.8   1.0     0.047527      1.000000   \n",
       "12      0.000000  0.831202  0.3   0.0     0.244059      0.025672   \n",
       "\n",
       "    instrumentalness  liveness   valence     tempo  ...          13        14  \\\n",
       "4           0.000609  0.652610  0.793412  1.000000  ...    0.147781  0.750268   \n",
       "5           0.006845  0.471888  0.388270  0.968683  ...    0.269291  0.730286   \n",
       "9           0.000000  0.795181  0.000000  0.450484  ...    0.445135  1.000000   \n",
       "10          0.000000  0.275100  0.377941  0.090805  ...    0.422126  0.917711   \n",
       "12          0.439535  1.000000  0.623551  0.785283  ...    0.551000  0.850327   \n",
       "\n",
       "          15        16        17        18        19            song  \\\n",
       "4   0.000000  0.891171  0.693891  0.278980  0.424434  American Idiot   \n",
       "5   0.321858  0.000000  0.801659  0.373867  0.207750        War Pigs   \n",
       "9   0.016830  0.508237  1.000000  0.807716  0.000000        Valhalla   \n",
       "10  0.076100  0.686760  0.683270  0.650661  0.368161          A Team   \n",
       "12  0.267092  0.824507  0.866925  0.763042  0.339123     The Trooper   \n",
       "\n",
       "           artist  label  \n",
       "4       Green Day      1  \n",
       "5   Ozzy Osbourne      1  \n",
       "9   Black Sabbath      1  \n",
       "10     Ed Sheeran      1  \n",
       "12    Iron Maiden      1  \n",
       "\n",
       "[5 rows x 45 columns]"
      ]
     },
     "execution_count": 159,
     "metadata": {},
     "output_type": "execute_result"
    }
   ],
   "source": [
    "df[df.label==1]"
   ]
  },
  {
   "cell_type": "code",
   "execution_count": 147,
   "metadata": {},
   "outputs": [],
   "source": [
    "from sklearn.cluster import AgglomerativeClustering\n",
    "\n",
    "cluster = AgglomerativeClustering(n_clusters=3, affinity='euclidean', linkage='ward')  \n",
    "cluster.fit_predict(df[dfcols])\n",
    "\n",
    "df.label=cluster.labels_"
   ]
  },
  {
   "cell_type": "code",
   "execution_count": 150,
   "metadata": {},
   "outputs": [
    {
     "data": {
      "text/html": [
       "<div>\n",
       "<style scoped>\n",
       "    .dataframe tbody tr th:only-of-type {\n",
       "        vertical-align: middle;\n",
       "    }\n",
       "\n",
       "    .dataframe tbody tr th {\n",
       "        vertical-align: top;\n",
       "    }\n",
       "\n",
       "    .dataframe thead th {\n",
       "        text-align: right;\n",
       "    }\n",
       "</style>\n",
       "<table border=\"1\" class=\"dataframe\">\n",
       "  <thead>\n",
       "    <tr style=\"text-align: right;\">\n",
       "      <th></th>\n",
       "      <th>danceability</th>\n",
       "      <th>energy</th>\n",
       "      <th>key</th>\n",
       "      <th>mode</th>\n",
       "      <th>speechiness</th>\n",
       "      <th>acousticness</th>\n",
       "      <th>instrumentalness</th>\n",
       "      <th>liveness</th>\n",
       "      <th>valence</th>\n",
       "      <th>tempo</th>\n",
       "      <th>...</th>\n",
       "      <th>13</th>\n",
       "      <th>14</th>\n",
       "      <th>15</th>\n",
       "      <th>16</th>\n",
       "      <th>17</th>\n",
       "      <th>18</th>\n",
       "      <th>19</th>\n",
       "      <th>song</th>\n",
       "      <th>artist</th>\n",
       "      <th>label</th>\n",
       "    </tr>\n",
       "  </thead>\n",
       "  <tbody>\n",
       "    <tr>\n",
       "      <th>4</th>\n",
       "      <td>0.144201</td>\n",
       "      <td>0.989770</td>\n",
       "      <td>0.0</td>\n",
       "      <td>1.0</td>\n",
       "      <td>0.222222</td>\n",
       "      <td>0.000000</td>\n",
       "      <td>0.000609</td>\n",
       "      <td>0.652610</td>\n",
       "      <td>0.793412</td>\n",
       "      <td>1.000000</td>\n",
       "      <td>...</td>\n",
       "      <td>0.147781</td>\n",
       "      <td>0.750268</td>\n",
       "      <td>0.000000</td>\n",
       "      <td>0.891171</td>\n",
       "      <td>0.693891</td>\n",
       "      <td>0.278980</td>\n",
       "      <td>0.424434</td>\n",
       "      <td>American Idiot</td>\n",
       "      <td>Green Day</td>\n",
       "      <td>1</td>\n",
       "    </tr>\n",
       "    <tr>\n",
       "      <th>5</th>\n",
       "      <td>0.068966</td>\n",
       "      <td>0.523018</td>\n",
       "      <td>0.8</td>\n",
       "      <td>0.0</td>\n",
       "      <td>0.327553</td>\n",
       "      <td>0.331812</td>\n",
       "      <td>0.006845</td>\n",
       "      <td>0.471888</td>\n",
       "      <td>0.388270</td>\n",
       "      <td>0.968683</td>\n",
       "      <td>...</td>\n",
       "      <td>0.269291</td>\n",
       "      <td>0.730286</td>\n",
       "      <td>0.321858</td>\n",
       "      <td>0.000000</td>\n",
       "      <td>0.801659</td>\n",
       "      <td>0.373867</td>\n",
       "      <td>0.207750</td>\n",
       "      <td>War Pigs</td>\n",
       "      <td>Ozzy Osbourne</td>\n",
       "      <td>1</td>\n",
       "    </tr>\n",
       "    <tr>\n",
       "      <th>9</th>\n",
       "      <td>0.319749</td>\n",
       "      <td>1.000000</td>\n",
       "      <td>0.5</td>\n",
       "      <td>1.0</td>\n",
       "      <td>1.000000</td>\n",
       "      <td>0.000090</td>\n",
       "      <td>0.000000</td>\n",
       "      <td>0.795181</td>\n",
       "      <td>0.000000</td>\n",
       "      <td>0.450484</td>\n",
       "      <td>...</td>\n",
       "      <td>0.445135</td>\n",
       "      <td>1.000000</td>\n",
       "      <td>0.016830</td>\n",
       "      <td>0.508237</td>\n",
       "      <td>1.000000</td>\n",
       "      <td>0.807716</td>\n",
       "      <td>0.000000</td>\n",
       "      <td>Valhalla</td>\n",
       "      <td>Black Sabbath</td>\n",
       "      <td>1</td>\n",
       "    </tr>\n",
       "    <tr>\n",
       "      <th>12</th>\n",
       "      <td>0.000000</td>\n",
       "      <td>0.831202</td>\n",
       "      <td>0.3</td>\n",
       "      <td>0.0</td>\n",
       "      <td>0.244059</td>\n",
       "      <td>0.025672</td>\n",
       "      <td>0.439535</td>\n",
       "      <td>1.000000</td>\n",
       "      <td>0.623551</td>\n",
       "      <td>0.785283</td>\n",
       "      <td>...</td>\n",
       "      <td>0.551000</td>\n",
       "      <td>0.850327</td>\n",
       "      <td>0.267092</td>\n",
       "      <td>0.824507</td>\n",
       "      <td>0.866925</td>\n",
       "      <td>0.763042</td>\n",
       "      <td>0.339123</td>\n",
       "      <td>The Trooper</td>\n",
       "      <td>Iron Maiden</td>\n",
       "      <td>1</td>\n",
       "    </tr>\n",
       "  </tbody>\n",
       "</table>\n",
       "<p>4 rows × 45 columns</p>\n",
       "</div>"
      ],
      "text/plain": [
       "    danceability    energy  key  mode  speechiness  acousticness  \\\n",
       "4       0.144201  0.989770  0.0   1.0     0.222222      0.000000   \n",
       "5       0.068966  0.523018  0.8   0.0     0.327553      0.331812   \n",
       "9       0.319749  1.000000  0.5   1.0     1.000000      0.000090   \n",
       "12      0.000000  0.831202  0.3   0.0     0.244059      0.025672   \n",
       "\n",
       "    instrumentalness  liveness   valence     tempo  ...          13        14  \\\n",
       "4           0.000609  0.652610  0.793412  1.000000  ...    0.147781  0.750268   \n",
       "5           0.006845  0.471888  0.388270  0.968683  ...    0.269291  0.730286   \n",
       "9           0.000000  0.795181  0.000000  0.450484  ...    0.445135  1.000000   \n",
       "12          0.439535  1.000000  0.623551  0.785283  ...    0.551000  0.850327   \n",
       "\n",
       "          15        16        17        18        19            song  \\\n",
       "4   0.000000  0.891171  0.693891  0.278980  0.424434  American Idiot   \n",
       "5   0.321858  0.000000  0.801659  0.373867  0.207750        War Pigs   \n",
       "9   0.016830  0.508237  1.000000  0.807716  0.000000        Valhalla   \n",
       "12  0.267092  0.824507  0.866925  0.763042  0.339123     The Trooper   \n",
       "\n",
       "           artist  label  \n",
       "4       Green Day      1  \n",
       "5   Ozzy Osbourne      1  \n",
       "9   Black Sabbath      1  \n",
       "12    Iron Maiden      1  \n",
       "\n",
       "[4 rows x 45 columns]"
      ]
     },
     "execution_count": 150,
     "metadata": {},
     "output_type": "execute_result"
    }
   ],
   "source": [
    "df[df.label==1]"
   ]
  },
  {
   "cell_type": "code",
   "execution_count": 139,
   "metadata": {},
   "outputs": [],
   "source": [
    "# Getting sentiment for the sample\n",
    "from vaderSentiment.vaderSentiment import SentimentIntensityAnalyzer\n",
    "\n",
    "sentiment_data = pd.DataFrame(columns=['positive', 'negative', 'neutral', 'compound', 'song'])\n",
    "for index, row in sample.iterrows():\n",
    "    pos = []\n",
    "    neg = []\n",
    "    neu = []\n",
    "    compound = []\n",
    "    sentences=nltk.sent_tokenize(row.text)\n",
    "    analyzer = SentimentIntensityAnalyzer()\n",
    "    for sentence in sentences:\n",
    "        vs = analyzer.polarity_scores(sentence)\n",
    "        pos.append(vs['pos'])\n",
    "        neg.append(vs['neg'])\n",
    "        neu.append(vs['neu'])\n",
    "        compound.append(vs['compound'])\n",
    "    tmp = pd.DataFrame([[np.average(pos), np.average(neg), np.average(neu), np.average(compound), row['song']]], columns=['positive', 'negative', 'neutral', 'compound', 'song'])\n",
    "    sentiment_data = pd.concat([sentiment_data, tmp], ignore_index=True)"
   ]
  },
  {
   "cell_type": "code",
   "execution_count": 140,
   "metadata": {},
   "outputs": [],
   "source": [
    "# Merge the dataset to add sentiment calues\n",
    "df_with_sentiment = pd.merge(df_all, sentiment_data, how='left', on='song')"
   ]
  },
  {
   "cell_type": "code",
   "execution_count": 141,
   "metadata": {},
   "outputs": [
    {
     "name": "stderr",
     "output_type": "stream",
     "text": [
      "/home/aman/anaconda3/lib/python3.6/site-packages/sklearn/utils/validation.py:475: DataConversionWarning: Data with input dtype object was converted to float64 by MinMaxScaler.\n",
      "  warnings.warn(msg, DataConversionWarning)\n"
     ]
    }
   ],
   "source": [
    "# Scaling the dataframe\n",
    "x = df_with_sentiment[dfcols + ['positive', 'negative', 'neutral', 'compound']].values #returns a numpy array\n",
    "min_max_scaler = preprocessing.MinMaxScaler()\n",
    "x_scaled = min_max_scaler.fit_transform(x)\n",
    "df_with_sentiment = pd.DataFrame(x_scaled, columns=dfcols + ['positive', 'negative', 'neutral', 'compound'])\n",
    "df_with_sentiment['song'] = df_all['song']\n",
    "df_with_sentiment['artist'] = df_all['artist']"
   ]
  },
  {
   "cell_type": "code",
   "execution_count": 142,
   "metadata": {},
   "outputs": [
    {
     "name": "stderr",
     "output_type": "stream",
     "text": [
      "/home/aman/anaconda3/lib/python3.6/site-packages/ipykernel_launcher.py:6: UserWarning: Pandas doesn't allow columns to be created via a new attribute name - see https://pandas.pydata.org/pandas-docs/stable/indexing.html#attribute-access\n",
      "  \n"
     ]
    }
   ],
   "source": [
    "from sklearn.cluster import AgglomerativeClustering\n",
    "\n",
    "cluster = AgglomerativeClustering(n_clusters=3, affinity='euclidean', linkage='ward')  \n",
    "cluster.fit_predict(df_with_sentiment[dfcols + ['positive', 'negative', 'neutral', 'compound']])\n",
    "\n",
    "df_with_sentiment.label=cluster.labels_"
   ]
  },
  {
   "cell_type": "code",
   "execution_count": 175,
   "metadata": {},
   "outputs": [
    {
     "data": {
      "text/plain": [
       "['Wonderful Tonight', 'Let Her Go']"
      ]
     },
     "execution_count": 175,
     "metadata": {},
     "output_type": "execute_result"
    }
   ],
   "source": [
    "list(df_with_sentiment[df_with_sentiment.label==2]['song'])"
   ]
  },
  {
   "cell_type": "code",
   "execution_count": 160,
   "metadata": {},
   "outputs": [],
   "source": [
    "# Perform Kmeans on the consolidated scaled dataset\n",
    "from sklearn.cluster import KMeans\n",
    "kmeans = KMeans(n_clusters=3, random_state=0).fit(df_with_sentiment[dfcols + ['positive', 'negative', 'neutral', 'compound']])\n",
    "df_with_sentiment['label'] = kmeans.labels_"
   ]
  },
  {
   "cell_type": "code",
   "execution_count": 164,
   "metadata": {},
   "outputs": [
    {
     "data": {
      "text/html": [
       "<div>\n",
       "<style scoped>\n",
       "    .dataframe tbody tr th:only-of-type {\n",
       "        vertical-align: middle;\n",
       "    }\n",
       "\n",
       "    .dataframe tbody tr th {\n",
       "        vertical-align: top;\n",
       "    }\n",
       "\n",
       "    .dataframe thead th {\n",
       "        text-align: right;\n",
       "    }\n",
       "</style>\n",
       "<table border=\"1\" class=\"dataframe\">\n",
       "  <thead>\n",
       "    <tr style=\"text-align: right;\">\n",
       "      <th></th>\n",
       "      <th>danceability</th>\n",
       "      <th>energy</th>\n",
       "      <th>key</th>\n",
       "      <th>mode</th>\n",
       "      <th>speechiness</th>\n",
       "      <th>acousticness</th>\n",
       "      <th>instrumentalness</th>\n",
       "      <th>liveness</th>\n",
       "      <th>valence</th>\n",
       "      <th>tempo</th>\n",
       "      <th>...</th>\n",
       "      <th>17</th>\n",
       "      <th>18</th>\n",
       "      <th>19</th>\n",
       "      <th>positive</th>\n",
       "      <th>negative</th>\n",
       "      <th>neutral</th>\n",
       "      <th>compound</th>\n",
       "      <th>song</th>\n",
       "      <th>artist</th>\n",
       "      <th>label</th>\n",
       "    </tr>\n",
       "  </thead>\n",
       "  <tbody>\n",
       "    <tr>\n",
       "      <th>4</th>\n",
       "      <td>0.144201</td>\n",
       "      <td>0.989770</td>\n",
       "      <td>0.0</td>\n",
       "      <td>1.0</td>\n",
       "      <td>0.222222</td>\n",
       "      <td>0.000000</td>\n",
       "      <td>0.000609</td>\n",
       "      <td>0.652610</td>\n",
       "      <td>0.793412</td>\n",
       "      <td>1.000000</td>\n",
       "      <td>...</td>\n",
       "      <td>0.693891</td>\n",
       "      <td>0.278980</td>\n",
       "      <td>0.424434</td>\n",
       "      <td>0.328872</td>\n",
       "      <td>0.534462</td>\n",
       "      <td>0.249720</td>\n",
       "      <td>0.460676</td>\n",
       "      <td>American Idiot</td>\n",
       "      <td>Green Day</td>\n",
       "      <td>1</td>\n",
       "    </tr>\n",
       "    <tr>\n",
       "      <th>5</th>\n",
       "      <td>0.068966</td>\n",
       "      <td>0.523018</td>\n",
       "      <td>0.8</td>\n",
       "      <td>0.0</td>\n",
       "      <td>0.327553</td>\n",
       "      <td>0.331812</td>\n",
       "      <td>0.006845</td>\n",
       "      <td>0.471888</td>\n",
       "      <td>0.388270</td>\n",
       "      <td>0.968683</td>\n",
       "      <td>...</td>\n",
       "      <td>0.801659</td>\n",
       "      <td>0.373867</td>\n",
       "      <td>0.207750</td>\n",
       "      <td>0.055762</td>\n",
       "      <td>0.593846</td>\n",
       "      <td>0.464995</td>\n",
       "      <td>0.008112</td>\n",
       "      <td>War Pigs</td>\n",
       "      <td>Ozzy Osbourne</td>\n",
       "      <td>1</td>\n",
       "    </tr>\n",
       "    <tr>\n",
       "      <th>9</th>\n",
       "      <td>0.319749</td>\n",
       "      <td>1.000000</td>\n",
       "      <td>0.5</td>\n",
       "      <td>1.0</td>\n",
       "      <td>1.000000</td>\n",
       "      <td>0.000090</td>\n",
       "      <td>0.000000</td>\n",
       "      <td>0.795181</td>\n",
       "      <td>0.000000</td>\n",
       "      <td>0.450484</td>\n",
       "      <td>...</td>\n",
       "      <td>1.000000</td>\n",
       "      <td>0.807716</td>\n",
       "      <td>0.000000</td>\n",
       "      <td>0.579926</td>\n",
       "      <td>0.436923</td>\n",
       "      <td>0.107307</td>\n",
       "      <td>0.776927</td>\n",
       "      <td>Valhalla</td>\n",
       "      <td>Black Sabbath</td>\n",
       "      <td>1</td>\n",
       "    </tr>\n",
       "    <tr>\n",
       "      <th>10</th>\n",
       "      <td>0.554859</td>\n",
       "      <td>0.095908</td>\n",
       "      <td>0.8</td>\n",
       "      <td>1.0</td>\n",
       "      <td>0.047527</td>\n",
       "      <td>1.000000</td>\n",
       "      <td>0.000000</td>\n",
       "      <td>0.275100</td>\n",
       "      <td>0.377941</td>\n",
       "      <td>0.090805</td>\n",
       "      <td>...</td>\n",
       "      <td>0.683270</td>\n",
       "      <td>0.650661</td>\n",
       "      <td>0.368161</td>\n",
       "      <td>0.449814</td>\n",
       "      <td>0.572308</td>\n",
       "      <td>0.071538</td>\n",
       "      <td>0.038055</td>\n",
       "      <td>A Team</td>\n",
       "      <td>Ed Sheeran</td>\n",
       "      <td>1</td>\n",
       "    </tr>\n",
       "    <tr>\n",
       "      <th>12</th>\n",
       "      <td>0.000000</td>\n",
       "      <td>0.831202</td>\n",
       "      <td>0.3</td>\n",
       "      <td>0.0</td>\n",
       "      <td>0.244059</td>\n",
       "      <td>0.025672</td>\n",
       "      <td>0.439535</td>\n",
       "      <td>1.000000</td>\n",
       "      <td>0.623551</td>\n",
       "      <td>0.785283</td>\n",
       "      <td>...</td>\n",
       "      <td>0.866925</td>\n",
       "      <td>0.763042</td>\n",
       "      <td>0.339123</td>\n",
       "      <td>0.204461</td>\n",
       "      <td>0.612308</td>\n",
       "      <td>0.282177</td>\n",
       "      <td>0.008963</td>\n",
       "      <td>The Trooper</td>\n",
       "      <td>Iron Maiden</td>\n",
       "      <td>1</td>\n",
       "    </tr>\n",
       "  </tbody>\n",
       "</table>\n",
       "<p>5 rows × 49 columns</p>\n",
       "</div>"
      ],
      "text/plain": [
       "    danceability    energy  key  mode  speechiness  acousticness  \\\n",
       "4       0.144201  0.989770  0.0   1.0     0.222222      0.000000   \n",
       "5       0.068966  0.523018  0.8   0.0     0.327553      0.331812   \n",
       "9       0.319749  1.000000  0.5   1.0     1.000000      0.000090   \n",
       "10      0.554859  0.095908  0.8   1.0     0.047527      1.000000   \n",
       "12      0.000000  0.831202  0.3   0.0     0.244059      0.025672   \n",
       "\n",
       "    instrumentalness  liveness   valence     tempo  ...          17        18  \\\n",
       "4           0.000609  0.652610  0.793412  1.000000  ...    0.693891  0.278980   \n",
       "5           0.006845  0.471888  0.388270  0.968683  ...    0.801659  0.373867   \n",
       "9           0.000000  0.795181  0.000000  0.450484  ...    1.000000  0.807716   \n",
       "10          0.000000  0.275100  0.377941  0.090805  ...    0.683270  0.650661   \n",
       "12          0.439535  1.000000  0.623551  0.785283  ...    0.866925  0.763042   \n",
       "\n",
       "          19  positive  negative   neutral  compound            song  \\\n",
       "4   0.424434  0.328872  0.534462  0.249720  0.460676  American Idiot   \n",
       "5   0.207750  0.055762  0.593846  0.464995  0.008112        War Pigs   \n",
       "9   0.000000  0.579926  0.436923  0.107307  0.776927        Valhalla   \n",
       "10  0.368161  0.449814  0.572308  0.071538  0.038055          A Team   \n",
       "12  0.339123  0.204461  0.612308  0.282177  0.008963     The Trooper   \n",
       "\n",
       "           artist  label  \n",
       "4       Green Day      1  \n",
       "5   Ozzy Osbourne      1  \n",
       "9   Black Sabbath      1  \n",
       "10     Ed Sheeran      1  \n",
       "12    Iron Maiden      1  \n",
       "\n",
       "[5 rows x 49 columns]"
      ]
     },
     "execution_count": 164,
     "metadata": {},
     "output_type": "execute_result"
    }
   ],
   "source": [
    "df_with_sentiment[df_with_sentiment.label==0]"
   ]
  },
  {
   "cell_type": "code",
   "execution_count": 170,
   "metadata": {},
   "outputs": [],
   "source": [
    "import random\n",
    "\n",
    "def some(x, n):\n",
    "    return x.ix[random.sample(x.index, n)]"
   ]
  },
  {
   "cell_type": "code",
   "execution_count": 171,
   "metadata": {},
   "outputs": [
    {
     "name": "stderr",
     "output_type": "stream",
     "text": [
      "/home/aman/anaconda3/lib/python3.6/site-packages/ipykernel_launcher.py:4: DeprecationWarning: \n",
      ".ix is deprecated. Please use\n",
      ".loc for label based indexing or\n",
      ".iloc for positional indexing\n",
      "\n",
      "See the documentation here:\n",
      "http://pandas.pydata.org/pandas-docs/stable/indexing.html#ix-indexer-is-deprecated\n",
      "  after removing the cwd from sys.path.\n"
     ]
    },
    {
     "ename": "TypeError",
     "evalue": "Population must be a sequence or set.  For dicts, use list(d).",
     "output_type": "error",
     "traceback": [
      "\u001b[0;31m---------------------------------------------------------------------------\u001b[0m",
      "\u001b[0;31mTypeError\u001b[0m                                 Traceback (most recent call last)",
      "\u001b[0;32m<ipython-input-171-c3c73d17ab8c>\u001b[0m in \u001b[0;36m<module>\u001b[0;34m()\u001b[0m\n\u001b[0;32m----> 1\u001b[0;31m \u001b[0msome\u001b[0m\u001b[0;34m(\u001b[0m\u001b[0msample\u001b[0m\u001b[0;34m,\u001b[0m \u001b[0;36m7\u001b[0m\u001b[0;34m)\u001b[0m\u001b[0;34m\u001b[0m\u001b[0m\n\u001b[0m",
      "\u001b[0;32m<ipython-input-170-f29e4933939a>\u001b[0m in \u001b[0;36msome\u001b[0;34m(x, n)\u001b[0m\n\u001b[1;32m      2\u001b[0m \u001b[0;34m\u001b[0m\u001b[0m\n\u001b[1;32m      3\u001b[0m \u001b[0;32mdef\u001b[0m \u001b[0msome\u001b[0m\u001b[0;34m(\u001b[0m\u001b[0mx\u001b[0m\u001b[0;34m,\u001b[0m \u001b[0mn\u001b[0m\u001b[0;34m)\u001b[0m\u001b[0;34m:\u001b[0m\u001b[0;34m\u001b[0m\u001b[0m\n\u001b[0;32m----> 4\u001b[0;31m     \u001b[0;32mreturn\u001b[0m \u001b[0mx\u001b[0m\u001b[0;34m.\u001b[0m\u001b[0mix\u001b[0m\u001b[0;34m[\u001b[0m\u001b[0mrandom\u001b[0m\u001b[0;34m.\u001b[0m\u001b[0msample\u001b[0m\u001b[0;34m(\u001b[0m\u001b[0mx\u001b[0m\u001b[0;34m.\u001b[0m\u001b[0mindex\u001b[0m\u001b[0;34m,\u001b[0m \u001b[0mn\u001b[0m\u001b[0;34m)\u001b[0m\u001b[0;34m]\u001b[0m\u001b[0;34m\u001b[0m\u001b[0m\n\u001b[0m",
      "\u001b[0;32m~/anaconda3/lib/python3.6/random.py\u001b[0m in \u001b[0;36msample\u001b[0;34m(self, population, k)\u001b[0m\n\u001b[1;32m    312\u001b[0m             \u001b[0mpopulation\u001b[0m \u001b[0;34m=\u001b[0m \u001b[0mtuple\u001b[0m\u001b[0;34m(\u001b[0m\u001b[0mpopulation\u001b[0m\u001b[0;34m)\u001b[0m\u001b[0;34m\u001b[0m\u001b[0m\n\u001b[1;32m    313\u001b[0m         \u001b[0;32mif\u001b[0m \u001b[0;32mnot\u001b[0m \u001b[0misinstance\u001b[0m\u001b[0;34m(\u001b[0m\u001b[0mpopulation\u001b[0m\u001b[0;34m,\u001b[0m \u001b[0m_Sequence\u001b[0m\u001b[0;34m)\u001b[0m\u001b[0;34m:\u001b[0m\u001b[0;34m\u001b[0m\u001b[0m\n\u001b[0;32m--> 314\u001b[0;31m             \u001b[0;32mraise\u001b[0m \u001b[0mTypeError\u001b[0m\u001b[0;34m(\u001b[0m\u001b[0;34m\"Population must be a sequence or set.  For dicts, use list(d).\"\u001b[0m\u001b[0;34m)\u001b[0m\u001b[0;34m\u001b[0m\u001b[0m\n\u001b[0m\u001b[1;32m    315\u001b[0m         \u001b[0mrandbelow\u001b[0m \u001b[0;34m=\u001b[0m \u001b[0mself\u001b[0m\u001b[0;34m.\u001b[0m\u001b[0m_randbelow\u001b[0m\u001b[0;34m\u001b[0m\u001b[0m\n\u001b[1;32m    316\u001b[0m         \u001b[0mn\u001b[0m \u001b[0;34m=\u001b[0m \u001b[0mlen\u001b[0m\u001b[0;34m(\u001b[0m\u001b[0mpopulation\u001b[0m\u001b[0;34m)\u001b[0m\u001b[0;34m\u001b[0m\u001b[0m\n",
      "\u001b[0;31mTypeError\u001b[0m: Population must be a sequence or set.  For dicts, use list(d)."
     ]
    }
   ],
   "source": [
    "some(sample, 7)"
   ]
  },
  {
   "cell_type": "code",
   "execution_count": 176,
   "metadata": {},
   "outputs": [
    {
     "data": {
      "text/plain": [
       "['Electric Funeral', 'Sing']"
      ]
     },
     "execution_count": 176,
     "metadata": {},
     "output_type": "execute_result"
    }
   ],
   "source": [
    "list(sample.sample(n=2)['song'])"
   ]
  },
  {
   "cell_type": "code",
   "execution_count": null,
   "metadata": {},
   "outputs": [],
   "source": [
    "'Wonderful Tonight', 'Electric Funeral', 'I Knew You Were Trouble', 'Love Story', 'American Idiot', 'Marry You', 'The Lazy Song'"
   ]
  }
 ],
 "metadata": {
  "kernelspec": {
   "display_name": "Python 3",
   "language": "python",
   "name": "python3"
  },
  "language_info": {
   "codemirror_mode": {
    "name": "ipython",
    "version": 3
   },
   "file_extension": ".py",
   "mimetype": "text/x-python",
   "name": "python",
   "nbconvert_exporter": "python",
   "pygments_lexer": "ipython3",
   "version": "3.6.5"
  }
 },
 "nbformat": 4,
 "nbformat_minor": 2
}
