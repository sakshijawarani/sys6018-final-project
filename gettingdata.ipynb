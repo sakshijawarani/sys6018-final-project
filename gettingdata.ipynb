{
 "cells": [
  {
   "cell_type": "code",
   "execution_count": 147,
   "metadata": {},
   "outputs": [],
   "source": [
    "# Initial Imports\n",
    "import pandas as pd\n",
    "import numpy as np\n",
    "import spotipy\n",
    "from spotipy.oauth2 import SpotifyClientCredentials\n",
    "import spotipy\n",
    "import matplotlib.pyplot as plt"
   ]
  },
  {
   "cell_type": "code",
   "execution_count": 2,
   "metadata": {},
   "outputs": [],
   "source": [
    "# Read in lyrics data\n",
    "lyrics = pd.read_csv(\"data/songdata.csv\")"
   ]
  },
  {
   "cell_type": "code",
   "execution_count": 3,
   "metadata": {},
   "outputs": [],
   "source": [
    "# Required columns\n",
    "cols=['song', 'artist', 'trackid', 'danceability', 'energy', 'key', 'mode', \n",
    "      'speechiness', 'acousticness', 'instrumentalness', 'liveness', \n",
    "      'valence', 'tempo', 'duration_ms', 'time_signature',\n",
    "     'duration', 'analysis_sample_rate', 'analysis_channels', \n",
    "      'end_of_fade_in', 'start_of_fade_out', 'loudness', 'tempo', 'tempo_confidence', \n",
    "      'time_signature', 'time_signature_confidence', 'key', 'key_confidence', 'mode', 'mode_confidence']"
   ]
  },
  {
   "cell_type": "code",
   "execution_count": 4,
   "metadata": {},
   "outputs": [],
   "source": [
    "cols = list(np.unique(cols))"
   ]
  },
  {
   "cell_type": "code",
   "execution_count": 5,
   "metadata": {},
   "outputs": [],
   "source": [
    "# Creating dataframe for audio features\n",
    "features=pd.DataFrame(columns=cols)"
   ]
  },
  {
   "cell_type": "code",
   "execution_count": 6,
   "metadata": {},
   "outputs": [],
   "source": [
    "artists = ['Eminem', 'Passenger', 'Bruno Mars', 'Coldplay', 'Ozzy Osbourne', 'Slayer','Metallica','Beatles','Dire Straits' ,'Radiohead', 'Taylor Swift', 'Aerosmith','Ed Sheeran', 'Drake', 'Pink Floyd', 'Queen', 'Billy Joel', 'Iron Maiden', 'Black Sabbath','Green Day' ]"
   ]
  },
  {
   "cell_type": "code",
   "execution_count": 7,
   "metadata": {},
   "outputs": [],
   "source": [
    "songs = ['Let It Be', 'Let Her Go','Hey Jude', '', 'Marry You','Yellow', 'The Lazy Song','Norwegian Wood', 'Wonderful Tonight',  'Imagine', 'I Knew You Were Trouble', 'Love Story', 'A Team', 'Sing', 'Bohemian Rhapsody', 'Electric Funeral', 'Valhalla', 'American Idiot', 'Angel Of Death', 'War Pigs', 'The Trooper']"
   ]
  },
  {
   "cell_type": "code",
   "execution_count": 8,
   "metadata": {},
   "outputs": [],
   "source": [
    "# Filtering on artist\n",
    "lyrics = lyrics[lyrics.artist.isin(artists)]\n",
    "# Select songs based on the list of songs or a list of artists or both\n",
    "songs_selected = lyrics[lyrics.song.isin(songs)]"
   ]
  },
  {
   "cell_type": "code",
   "execution_count": 9,
   "metadata": {},
   "outputs": [
    {
     "data": {
      "text/plain": [
       "(16, 4)"
      ]
     },
     "execution_count": 9,
     "metadata": {},
     "output_type": "execute_result"
    }
   ],
   "source": [
    "songs_selected.shape"
   ]
  },
  {
   "cell_type": "code",
   "execution_count": 10,
   "metadata": {},
   "outputs": [],
   "source": [
    "# sample dataframe is used for all analysis here on\n",
    "sample = songs_selected\n",
    "sample.reset_index(inplace=True)"
   ]
  },
  {
   "cell_type": "code",
   "execution_count": 11,
   "metadata": {},
   "outputs": [
    {
     "data": {
      "text/plain": [
       "['Electric Funeral',\n",
       " 'Marry You',\n",
       " 'The Lazy Song',\n",
       " 'Yellow',\n",
       " 'Wonderful Tonight',\n",
       " 'American Idiot',\n",
       " 'War Pigs',\n",
       " 'Let Her Go',\n",
       " 'Angel Of Death',\n",
       " 'I Knew You Were Trouble',\n",
       " 'Love Story',\n",
       " 'Valhalla',\n",
       " 'A Team',\n",
       " 'Sing',\n",
       " 'The Trooper',\n",
       " 'Bohemian Rhapsody']"
      ]
     },
     "execution_count": 11,
     "metadata": {},
     "output_type": "execute_result"
    }
   ],
   "source": [
    "list(sample['song'])"
   ]
  },
  {
   "cell_type": "code",
   "execution_count": 12,
   "metadata": {},
   "outputs": [],
   "source": [
    "# Get audio features for the songs in the sample dataframe\n",
    "# Client Credentials\n",
    "client_id = \"5fc0da4106eb48e1913868f4950828fb\"\n",
    "client_secret = \"5a549bc4674e47dfaf3b06da4500a44d\"\n",
    "\n",
    "client_credentials_manager = SpotifyClientCredentials(client_id=client_id, client_secret=client_secret)\n",
    "sp = spotipy.Spotify(client_credentials_manager=client_credentials_manager)\n",
    "\n",
    "for index,row in sample.iterrows():\n",
    "    song = row['song']\n",
    "    \n",
    "    temp = pd.DataFrame(columns = cols)\n",
    "    temp['song'] = [song]\n",
    "    temp['artist'] = [row['artist']]\n",
    "    \n",
    "    try:\n",
    "        result = sp.search(song, type='track', limit=1)\n",
    "\n",
    "    except:\n",
    "        print('SOme error')\n",
    "        continue\n",
    "        \n",
    "    if len(result['tracks']['items']) == 0:\n",
    "        continue\n",
    "    \n",
    "    trackid=result['tracks']['items'][0]['id']\n",
    "    temp['trackid'] = [trackid]\n",
    "    \n",
    "    try:\n",
    "        feat=sp.audio_features(trackid)[0]\n",
    "        analysis=sp.audio_analysis(trackid)['track']\n",
    "    except error as e:\n",
    "        print(e)\n",
    "        continue\n",
    "    \n",
    "    combined = {**feat, **analysis}\n",
    "    \n",
    "    for col in cols:\n",
    "        if col in ['song', 'artist', 'trackid']:\n",
    "            continue\n",
    "        temp[col]= combined[col]\n",
    "        \n",
    "    features = features.append(temp, ignore_index=True)"
   ]
  },
  {
   "cell_type": "code",
   "execution_count": 13,
   "metadata": {},
   "outputs": [],
   "source": [
    "features = features.T.drop_duplicates().T"
   ]
  },
  {
   "cell_type": "code",
   "execution_count": 14,
   "metadata": {},
   "outputs": [
    {
     "name": "stdout",
     "output_type": "stream",
     "text": [
      "[nltk_data] Downloading package punkt to /home/aman/nltk_data...\n",
      "[nltk_data]   Package punkt is already up-to-date!\n"
     ]
    }
   ],
   "source": [
    "# Getting word vectors\n",
    "import nltk\n",
    "nltk.download('punkt')\n",
    "from nltk.tokenize import RegexpTokenizer\n",
    "\n",
    "# Getting all text for training own word vectors\n",
    "all_text = ' '.join(lyrics.text)\n",
    "all_text = all_text.replace('\\n', '')\n",
    "sent_text = nltk.sent_tokenize(all_text)"
   ]
  },
  {
   "cell_type": "code",
   "execution_count": 15,
   "metadata": {},
   "outputs": [],
   "source": [
    "# Training and saving the word vec model\n",
    "wv_dimension = 20\n",
    "\n",
    "tokenizer = RegexpTokenizer(r'\\w+').tokenize\n",
    "\n",
    "sent_tokenized = []\n",
    "for sent in sent_text:\n",
    "    sent_tokenized.append(tokenizer(sent))\n",
    "    \n",
    "from gensim.models import Word2Vec\n",
    "from gensim.test.utils import common_texts, get_tmpfile\n",
    "\n",
    "path = get_tmpfile(\"word2vec.model\")\n",
    "model = Word2Vec(sent_tokenized, size=wv_dimension, window=5, min_count=3, workers=4)\n",
    "\n",
    "model.save(\"word2vec.model\")"
   ]
  },
  {
   "cell_type": "code",
   "execution_count": 16,
   "metadata": {},
   "outputs": [
    {
     "name": "stderr",
     "output_type": "stream",
     "text": [
      "/home/aman/anaconda3/lib/python3.6/site-packages/ipykernel_launcher.py:10: DeprecationWarning: Call to deprecated `__getitem__` (Method will be removed in 4.0.0, use self.wv.__getitem__() instead).\n",
      "  # Remove the CWD from sys.path while we load stuff.\n",
      "/home/aman/anaconda3/lib/python3.6/site-packages/ipykernel_launcher.py:14: RuntimeWarning: invalid value encountered in true_divide\n",
      "  \n"
     ]
    }
   ],
   "source": [
    "# Finding wv representation for the lyrics in the dataframe sample\n",
    "# Creating a dataframe wv with the word vectors\n",
    "wv = []\n",
    "for lyr in sample.text:\n",
    "    vec = [0] * wv_dimension\n",
    "    c = 0\n",
    "    words = tokenizer(lyr)\n",
    "    for word in words:\n",
    "        try:\n",
    "            vec = vec + model[word]\n",
    "            c = c + 1\n",
    "        except:\n",
    "            vec = vec + [0] * wv_dimension\n",
    "    vec = np.array(vec) / c\n",
    "    wv.append(vec)"
   ]
  },
  {
   "cell_type": "code",
   "execution_count": 17,
   "metadata": {},
   "outputs": [],
   "source": [
    "# Naimg the columns in wv to 1-wv_dimension\n",
    "req_cols = list(range(wv_dimension))\n",
    "wv_df = pd.DataFrame(wv)[req_cols]\n",
    "wv_df['song'] = sample['song']"
   ]
  },
  {
   "cell_type": "code",
   "execution_count": 18,
   "metadata": {},
   "outputs": [],
   "source": [
    "# wv_df.to_csv('word_vectors_songs.csv', index=None)"
   ]
  },
  {
   "cell_type": "code",
   "execution_count": 19,
   "metadata": {},
   "outputs": [],
   "source": [
    "# Making a copy for preservation\n",
    "features_copy = features.copy()"
   ]
  },
  {
   "cell_type": "code",
   "execution_count": 20,
   "metadata": {},
   "outputs": [],
   "source": [
    "# Merging features and wv to get dataframe with audio features and the word vectors\n",
    "df_all = pd.merge(features, wv_df, how='left', on='song')\n",
    "# Removing empty rows\n",
    "df_all = df_all[df_all['trackid'] != 'NA']"
   ]
  },
  {
   "cell_type": "code",
   "execution_count": 21,
   "metadata": {},
   "outputs": [],
   "source": [
    "# Drop rows with NA values\n",
    "df_all = df_all.dropna()"
   ]
  },
  {
   "cell_type": "code",
   "execution_count": 22,
   "metadata": {},
   "outputs": [],
   "source": [
    "df_all.reset_index(inplace=True, drop=True)"
   ]
  },
  {
   "cell_type": "code",
   "execution_count": 23,
   "metadata": {},
   "outputs": [],
   "source": [
    "# Get a list of column in the consolidated dataframe\n",
    "cols = list(df_all.columns)"
   ]
  },
  {
   "cell_type": "code",
   "execution_count": 24,
   "metadata": {},
   "outputs": [],
   "source": [
    "# Remove columns not required for clustering\n",
    "cols.remove('song')\n",
    "cols.remove('artist')\n",
    "cols.remove('trackid')"
   ]
  },
  {
   "cell_type": "code",
   "execution_count": 25,
   "metadata": {},
   "outputs": [
    {
     "data": {
      "text/plain": [
       "(14, 45)"
      ]
     },
     "execution_count": 25,
     "metadata": {},
     "output_type": "execute_result"
    }
   ],
   "source": [
    "df_all.shape"
   ]
  },
  {
   "cell_type": "code",
   "execution_count": 26,
   "metadata": {},
   "outputs": [
    {
     "name": "stderr",
     "output_type": "stream",
     "text": [
      "/home/aman/anaconda3/lib/python3.6/site-packages/sklearn/utils/validation.py:475: DataConversionWarning: Data with input dtype object was converted to float64 by MinMaxScaler.\n",
      "  warnings.warn(msg, DataConversionWarning)\n"
     ]
    }
   ],
   "source": [
    "# Scaling the dataframe \n",
    "from sklearn import preprocessing\n",
    "\n",
    "x = df_all[cols].values #returns a numpy array\n",
    "min_max_scaler = preprocessing.MinMaxScaler()\n",
    "x_scaled = min_max_scaler.fit_transform(x)\n",
    "df = pd.DataFrame(x_scaled)\n",
    "\n",
    "# Adding song and artist to the scaled dataframe\n",
    "df.columns = cols\n",
    "df['song'] = df_all['song']\n",
    "df['artist'] = df_all['artist']"
   ]
  },
  {
   "cell_type": "code",
   "execution_count": 27,
   "metadata": {},
   "outputs": [],
   "source": [
    "# Removing unnecessary columns from the list of columns for clustering\n",
    "dfcols = list(df.columns)\n",
    "dfcols.remove('song')\n",
    "dfcols.remove('artist')"
   ]
  },
  {
   "cell_type": "code",
   "execution_count": 28,
   "metadata": {},
   "outputs": [],
   "source": [
    "# Perform Kmeans on the consolidated scaled dataset\n",
    "from sklearn.cluster import KMeans\n",
    "kmeans = KMeans(n_clusters=3, random_state=0).fit(df[dfcols])\n",
    "df['label'] = kmeans.labels_"
   ]
  },
  {
   "cell_type": "code",
   "execution_count": 29,
   "metadata": {},
   "outputs": [
    {
     "data": {
      "text/plain": [
       "array([0, 2, 1])"
      ]
     },
     "execution_count": 29,
     "metadata": {},
     "output_type": "execute_result"
    }
   ],
   "source": [
    "df.label.unique()"
   ]
  },
  {
   "cell_type": "code",
   "execution_count": 30,
   "metadata": {},
   "outputs": [
    {
     "data": {
      "text/html": [
       "<div>\n",
       "<style scoped>\n",
       "    .dataframe tbody tr th:only-of-type {\n",
       "        vertical-align: middle;\n",
       "    }\n",
       "\n",
       "    .dataframe tbody tr th {\n",
       "        vertical-align: top;\n",
       "    }\n",
       "\n",
       "    .dataframe thead th {\n",
       "        text-align: right;\n",
       "    }\n",
       "</style>\n",
       "<table border=\"1\" class=\"dataframe\">\n",
       "  <thead>\n",
       "    <tr style=\"text-align: right;\">\n",
       "      <th></th>\n",
       "      <th>acousticness</th>\n",
       "      <th>analysis_channels</th>\n",
       "      <th>analysis_sample_rate</th>\n",
       "      <th>danceability</th>\n",
       "      <th>duration</th>\n",
       "      <th>duration_ms</th>\n",
       "      <th>end_of_fade_in</th>\n",
       "      <th>energy</th>\n",
       "      <th>instrumentalness</th>\n",
       "      <th>key</th>\n",
       "      <th>...</th>\n",
       "      <th>13</th>\n",
       "      <th>14</th>\n",
       "      <th>15</th>\n",
       "      <th>16</th>\n",
       "      <th>17</th>\n",
       "      <th>18</th>\n",
       "      <th>19</th>\n",
       "      <th>song</th>\n",
       "      <th>artist</th>\n",
       "      <th>label</th>\n",
       "    </tr>\n",
       "  </thead>\n",
       "  <tbody>\n",
       "    <tr>\n",
       "      <th>4</th>\n",
       "      <td>0.000000</td>\n",
       "      <td>0.0</td>\n",
       "      <td>0.0</td>\n",
       "      <td>0.144201</td>\n",
       "      <td>0.000000</td>\n",
       "      <td>0.000000</td>\n",
       "      <td>1.000000</td>\n",
       "      <td>0.989770</td>\n",
       "      <td>0.000609</td>\n",
       "      <td>0.0</td>\n",
       "      <td>...</td>\n",
       "      <td>0.561245</td>\n",
       "      <td>0.255230</td>\n",
       "      <td>0.045895</td>\n",
       "      <td>0.406921</td>\n",
       "      <td>0.299055</td>\n",
       "      <td>0.111200</td>\n",
       "      <td>0.196880</td>\n",
       "      <td>American Idiot</td>\n",
       "      <td>Green Day</td>\n",
       "      <td>1</td>\n",
       "    </tr>\n",
       "    <tr>\n",
       "      <th>5</th>\n",
       "      <td>0.331812</td>\n",
       "      <td>0.0</td>\n",
       "      <td>0.0</td>\n",
       "      <td>0.068966</td>\n",
       "      <td>1.000000</td>\n",
       "      <td>1.000000</td>\n",
       "      <td>0.000000</td>\n",
       "      <td>0.523018</td>\n",
       "      <td>0.006845</td>\n",
       "      <td>0.8</td>\n",
       "      <td>...</td>\n",
       "      <td>0.992099</td>\n",
       "      <td>0.772784</td>\n",
       "      <td>0.486932</td>\n",
       "      <td>0.430892</td>\n",
       "      <td>0.456309</td>\n",
       "      <td>0.272603</td>\n",
       "      <td>0.000000</td>\n",
       "      <td>War Pigs</td>\n",
       "      <td>Ozzy Osbourne</td>\n",
       "      <td>1</td>\n",
       "    </tr>\n",
       "    <tr>\n",
       "      <th>9</th>\n",
       "      <td>0.000090</td>\n",
       "      <td>0.0</td>\n",
       "      <td>0.0</td>\n",
       "      <td>0.319749</td>\n",
       "      <td>0.404681</td>\n",
       "      <td>0.404682</td>\n",
       "      <td>0.000000</td>\n",
       "      <td>1.000000</td>\n",
       "      <td>0.000000</td>\n",
       "      <td>0.5</td>\n",
       "      <td>...</td>\n",
       "      <td>0.619852</td>\n",
       "      <td>0.405055</td>\n",
       "      <td>0.000000</td>\n",
       "      <td>0.498926</td>\n",
       "      <td>0.000000</td>\n",
       "      <td>0.898921</td>\n",
       "      <td>0.075792</td>\n",
       "      <td>Valhalla</td>\n",
       "      <td>Black Sabbath</td>\n",
       "      <td>1</td>\n",
       "    </tr>\n",
       "    <tr>\n",
       "      <th>12</th>\n",
       "      <td>0.025672</td>\n",
       "      <td>0.0</td>\n",
       "      <td>0.0</td>\n",
       "      <td>0.000000</td>\n",
       "      <td>0.250325</td>\n",
       "      <td>0.250327</td>\n",
       "      <td>0.100595</td>\n",
       "      <td>0.831202</td>\n",
       "      <td>0.439535</td>\n",
       "      <td>0.3</td>\n",
       "      <td>...</td>\n",
       "      <td>0.334923</td>\n",
       "      <td>0.638531</td>\n",
       "      <td>0.209348</td>\n",
       "      <td>0.501837</td>\n",
       "      <td>0.413908</td>\n",
       "      <td>0.874821</td>\n",
       "      <td>0.269387</td>\n",
       "      <td>The Trooper</td>\n",
       "      <td>Iron Maiden</td>\n",
       "      <td>1</td>\n",
       "    </tr>\n",
       "  </tbody>\n",
       "</table>\n",
       "<p>4 rows × 45 columns</p>\n",
       "</div>"
      ],
      "text/plain": [
       "    acousticness  analysis_channels  analysis_sample_rate  danceability  \\\n",
       "4       0.000000                0.0                   0.0      0.144201   \n",
       "5       0.331812                0.0                   0.0      0.068966   \n",
       "9       0.000090                0.0                   0.0      0.319749   \n",
       "12      0.025672                0.0                   0.0      0.000000   \n",
       "\n",
       "    duration  duration_ms  end_of_fade_in    energy  instrumentalness  key  \\\n",
       "4   0.000000     0.000000        1.000000  0.989770          0.000609  0.0   \n",
       "5   1.000000     1.000000        0.000000  0.523018          0.006845  0.8   \n",
       "9   0.404681     0.404682        0.000000  1.000000          0.000000  0.5   \n",
       "12  0.250325     0.250327        0.100595  0.831202          0.439535  0.3   \n",
       "\n",
       "    ...          13        14        15        16        17        18  \\\n",
       "4   ...    0.561245  0.255230  0.045895  0.406921  0.299055  0.111200   \n",
       "5   ...    0.992099  0.772784  0.486932  0.430892  0.456309  0.272603   \n",
       "9   ...    0.619852  0.405055  0.000000  0.498926  0.000000  0.898921   \n",
       "12  ...    0.334923  0.638531  0.209348  0.501837  0.413908  0.874821   \n",
       "\n",
       "          19            song         artist  label  \n",
       "4   0.196880  American Idiot      Green Day      1  \n",
       "5   0.000000        War Pigs  Ozzy Osbourne      1  \n",
       "9   0.075792        Valhalla  Black Sabbath      1  \n",
       "12  0.269387     The Trooper    Iron Maiden      1  \n",
       "\n",
       "[4 rows x 45 columns]"
      ]
     },
     "execution_count": 30,
     "metadata": {},
     "output_type": "execute_result"
    }
   ],
   "source": [
    "df[df.label==1]"
   ]
  },
  {
   "cell_type": "code",
   "execution_count": 31,
   "metadata": {},
   "outputs": [],
   "source": [
    "from sklearn.cluster import AgglomerativeClustering\n",
    "\n",
    "cluster = AgglomerativeClustering(n_clusters=3, affinity='euclidean', linkage='ward')  \n",
    "cluster.fit_predict(df[dfcols])\n",
    "\n",
    "df.label=cluster.labels_"
   ]
  },
  {
   "cell_type": "code",
   "execution_count": 32,
   "metadata": {},
   "outputs": [
    {
     "data": {
      "text/html": [
       "<div>\n",
       "<style scoped>\n",
       "    .dataframe tbody tr th:only-of-type {\n",
       "        vertical-align: middle;\n",
       "    }\n",
       "\n",
       "    .dataframe tbody tr th {\n",
       "        vertical-align: top;\n",
       "    }\n",
       "\n",
       "    .dataframe thead th {\n",
       "        text-align: right;\n",
       "    }\n",
       "</style>\n",
       "<table border=\"1\" class=\"dataframe\">\n",
       "  <thead>\n",
       "    <tr style=\"text-align: right;\">\n",
       "      <th></th>\n",
       "      <th>acousticness</th>\n",
       "      <th>analysis_channels</th>\n",
       "      <th>analysis_sample_rate</th>\n",
       "      <th>danceability</th>\n",
       "      <th>duration</th>\n",
       "      <th>duration_ms</th>\n",
       "      <th>end_of_fade_in</th>\n",
       "      <th>energy</th>\n",
       "      <th>instrumentalness</th>\n",
       "      <th>key</th>\n",
       "      <th>...</th>\n",
       "      <th>13</th>\n",
       "      <th>14</th>\n",
       "      <th>15</th>\n",
       "      <th>16</th>\n",
       "      <th>17</th>\n",
       "      <th>18</th>\n",
       "      <th>19</th>\n",
       "      <th>song</th>\n",
       "      <th>artist</th>\n",
       "      <th>label</th>\n",
       "    </tr>\n",
       "  </thead>\n",
       "  <tbody>\n",
       "    <tr>\n",
       "      <th>4</th>\n",
       "      <td>0.000000</td>\n",
       "      <td>0.0</td>\n",
       "      <td>0.0</td>\n",
       "      <td>0.144201</td>\n",
       "      <td>0.000000</td>\n",
       "      <td>0.000000</td>\n",
       "      <td>1.000000</td>\n",
       "      <td>0.989770</td>\n",
       "      <td>0.000609</td>\n",
       "      <td>0.0</td>\n",
       "      <td>...</td>\n",
       "      <td>0.561245</td>\n",
       "      <td>0.255230</td>\n",
       "      <td>0.045895</td>\n",
       "      <td>0.406921</td>\n",
       "      <td>0.299055</td>\n",
       "      <td>0.111200</td>\n",
       "      <td>0.196880</td>\n",
       "      <td>American Idiot</td>\n",
       "      <td>Green Day</td>\n",
       "      <td>1</td>\n",
       "    </tr>\n",
       "    <tr>\n",
       "      <th>5</th>\n",
       "      <td>0.331812</td>\n",
       "      <td>0.0</td>\n",
       "      <td>0.0</td>\n",
       "      <td>0.068966</td>\n",
       "      <td>1.000000</td>\n",
       "      <td>1.000000</td>\n",
       "      <td>0.000000</td>\n",
       "      <td>0.523018</td>\n",
       "      <td>0.006845</td>\n",
       "      <td>0.8</td>\n",
       "      <td>...</td>\n",
       "      <td>0.992099</td>\n",
       "      <td>0.772784</td>\n",
       "      <td>0.486932</td>\n",
       "      <td>0.430892</td>\n",
       "      <td>0.456309</td>\n",
       "      <td>0.272603</td>\n",
       "      <td>0.000000</td>\n",
       "      <td>War Pigs</td>\n",
       "      <td>Ozzy Osbourne</td>\n",
       "      <td>1</td>\n",
       "    </tr>\n",
       "    <tr>\n",
       "      <th>9</th>\n",
       "      <td>0.000090</td>\n",
       "      <td>0.0</td>\n",
       "      <td>0.0</td>\n",
       "      <td>0.319749</td>\n",
       "      <td>0.404681</td>\n",
       "      <td>0.404682</td>\n",
       "      <td>0.000000</td>\n",
       "      <td>1.000000</td>\n",
       "      <td>0.000000</td>\n",
       "      <td>0.5</td>\n",
       "      <td>...</td>\n",
       "      <td>0.619852</td>\n",
       "      <td>0.405055</td>\n",
       "      <td>0.000000</td>\n",
       "      <td>0.498926</td>\n",
       "      <td>0.000000</td>\n",
       "      <td>0.898921</td>\n",
       "      <td>0.075792</td>\n",
       "      <td>Valhalla</td>\n",
       "      <td>Black Sabbath</td>\n",
       "      <td>1</td>\n",
       "    </tr>\n",
       "    <tr>\n",
       "      <th>12</th>\n",
       "      <td>0.025672</td>\n",
       "      <td>0.0</td>\n",
       "      <td>0.0</td>\n",
       "      <td>0.000000</td>\n",
       "      <td>0.250325</td>\n",
       "      <td>0.250327</td>\n",
       "      <td>0.100595</td>\n",
       "      <td>0.831202</td>\n",
       "      <td>0.439535</td>\n",
       "      <td>0.3</td>\n",
       "      <td>...</td>\n",
       "      <td>0.334923</td>\n",
       "      <td>0.638531</td>\n",
       "      <td>0.209348</td>\n",
       "      <td>0.501837</td>\n",
       "      <td>0.413908</td>\n",
       "      <td>0.874821</td>\n",
       "      <td>0.269387</td>\n",
       "      <td>The Trooper</td>\n",
       "      <td>Iron Maiden</td>\n",
       "      <td>1</td>\n",
       "    </tr>\n",
       "  </tbody>\n",
       "</table>\n",
       "<p>4 rows × 45 columns</p>\n",
       "</div>"
      ],
      "text/plain": [
       "    acousticness  analysis_channels  analysis_sample_rate  danceability  \\\n",
       "4       0.000000                0.0                   0.0      0.144201   \n",
       "5       0.331812                0.0                   0.0      0.068966   \n",
       "9       0.000090                0.0                   0.0      0.319749   \n",
       "12      0.025672                0.0                   0.0      0.000000   \n",
       "\n",
       "    duration  duration_ms  end_of_fade_in    energy  instrumentalness  key  \\\n",
       "4   0.000000     0.000000        1.000000  0.989770          0.000609  0.0   \n",
       "5   1.000000     1.000000        0.000000  0.523018          0.006845  0.8   \n",
       "9   0.404681     0.404682        0.000000  1.000000          0.000000  0.5   \n",
       "12  0.250325     0.250327        0.100595  0.831202          0.439535  0.3   \n",
       "\n",
       "    ...          13        14        15        16        17        18  \\\n",
       "4   ...    0.561245  0.255230  0.045895  0.406921  0.299055  0.111200   \n",
       "5   ...    0.992099  0.772784  0.486932  0.430892  0.456309  0.272603   \n",
       "9   ...    0.619852  0.405055  0.000000  0.498926  0.000000  0.898921   \n",
       "12  ...    0.334923  0.638531  0.209348  0.501837  0.413908  0.874821   \n",
       "\n",
       "          19            song         artist  label  \n",
       "4   0.196880  American Idiot      Green Day      1  \n",
       "5   0.000000        War Pigs  Ozzy Osbourne      1  \n",
       "9   0.075792        Valhalla  Black Sabbath      1  \n",
       "12  0.269387     The Trooper    Iron Maiden      1  \n",
       "\n",
       "[4 rows x 45 columns]"
      ]
     },
     "execution_count": 32,
     "metadata": {},
     "output_type": "execute_result"
    }
   ],
   "source": [
    "df[df.label==1]"
   ]
  },
  {
   "cell_type": "code",
   "execution_count": 33,
   "metadata": {},
   "outputs": [],
   "source": [
    "# Getting sentiment for the sample\n",
    "from vaderSentiment.vaderSentiment import SentimentIntensityAnalyzer\n",
    "\n",
    "sentiment_data = pd.DataFrame(columns=['positive', 'negative', 'neutral', 'compound', 'song'])\n",
    "for index, row in sample.iterrows():\n",
    "    pos = []\n",
    "    neg = []\n",
    "    neu = []\n",
    "    compound = []\n",
    "    sentences=nltk.sent_tokenize(row.text)\n",
    "    analyzer = SentimentIntensityAnalyzer()\n",
    "    for sentence in sentences:\n",
    "        vs = analyzer.polarity_scores(sentence)\n",
    "        pos.append(vs['pos'])\n",
    "        neg.append(vs['neg'])\n",
    "        neu.append(vs['neu'])\n",
    "        compound.append(vs['compound'])\n",
    "    tmp = pd.DataFrame([[np.average(pos), np.average(neg), np.average(neu), np.average(compound), row['song']]], columns=['positive', 'negative', 'neutral', 'compound', 'song'])\n",
    "    sentiment_data = pd.concat([sentiment_data, tmp], ignore_index=True)"
   ]
  },
  {
   "cell_type": "code",
   "execution_count": 113,
   "metadata": {},
   "outputs": [],
   "source": [
    "# Merge the dataset to add sentiment calues\n",
    "df_with_sentiment = pd.merge(df_all, sentiment_data, how='left', on='song')"
   ]
  },
  {
   "cell_type": "code",
   "execution_count": 122,
   "metadata": {},
   "outputs": [
    {
     "name": "stderr",
     "output_type": "stream",
     "text": [
      "/home/aman/anaconda3/lib/python3.6/site-packages/sklearn/utils/validation.py:475: DataConversionWarning: Data with input dtype object was converted to float64 by MinMaxScaler.\n",
      "  warnings.warn(msg, DataConversionWarning)\n"
     ]
    }
   ],
   "source": [
    "# Scaling the dataframe\n",
    "x = df_with_sentiment[dfcols + ['positive', 'negative', 'neutral', 'compound']].values #returns a numpy array\n",
    "min_max_scaler = preprocessing.MinMaxScaler()\n",
    "x_scaled = min_max_scaler.fit_transform(x)\n",
    "df_with_sentiment = pd.DataFrame(x_scaled, columns=dfcols + ['positive', 'negative', 'neutral', 'compound'])\n",
    "df_with_sentiment['song'] = df_all['song']\n",
    "df_with_sentiment['artist'] = df_all['artist']"
   ]
  },
  {
   "cell_type": "code",
   "execution_count": 123,
   "metadata": {},
   "outputs": [
    {
     "name": "stderr",
     "output_type": "stream",
     "text": [
      "/home/aman/anaconda3/lib/python3.6/site-packages/ipykernel_launcher.py:6: UserWarning: Pandas doesn't allow columns to be created via a new attribute name - see https://pandas.pydata.org/pandas-docs/stable/indexing.html#attribute-access\n",
      "  \n"
     ]
    }
   ],
   "source": [
    "from sklearn.cluster import AgglomerativeClustering\n",
    "\n",
    "cluster = AgglomerativeClustering(n_clusters=3, affinity='euclidean', linkage='ward')  \n",
    "cluster.fit_predict(df_with_sentiment[dfcols + ['positive', 'negative', 'neutral', 'compound']])\n",
    "\n",
    "df_with_sentiment.label=cluster.labels_"
   ]
  },
  {
   "cell_type": "code",
   "execution_count": 124,
   "metadata": {},
   "outputs": [
    {
     "data": {
      "text/plain": [
       "['Marry You', 'The Lazy Song', 'Yellow', 'Sing', 'Bohemian Rhapsody']"
      ]
     },
     "execution_count": 124,
     "metadata": {},
     "output_type": "execute_result"
    }
   ],
   "source": [
    "list(df_with_sentiment[df_with_sentiment.label==2]['song'])"
   ]
  },
  {
   "cell_type": "code",
   "execution_count": 134,
   "metadata": {},
   "outputs": [],
   "source": [
    "# Perform Kmeans on the consolidated scaled dataset\n",
    "from sklearn.cluster import KMeans\n",
    "kmeans = KMeans(n_clusters=2, random_state=0, max_iter=1000).fit(df_with_sentiment[dfcols + ['positive', 'negative', 'neutral', 'compound']])\n",
    "df_with_sentiment['label'] = kmeans.labels_"
   ]
  },
  {
   "cell_type": "code",
   "execution_count": 135,
   "metadata": {},
   "outputs": [
    {
     "data": {
      "text/html": [
       "<div>\n",
       "<style scoped>\n",
       "    .dataframe tbody tr th:only-of-type {\n",
       "        vertical-align: middle;\n",
       "    }\n",
       "\n",
       "    .dataframe tbody tr th {\n",
       "        vertical-align: top;\n",
       "    }\n",
       "\n",
       "    .dataframe thead th {\n",
       "        text-align: right;\n",
       "    }\n",
       "</style>\n",
       "<table border=\"1\" class=\"dataframe\">\n",
       "  <thead>\n",
       "    <tr style=\"text-align: right;\">\n",
       "      <th></th>\n",
       "      <th>acousticness</th>\n",
       "      <th>analysis_channels</th>\n",
       "      <th>analysis_sample_rate</th>\n",
       "      <th>danceability</th>\n",
       "      <th>duration</th>\n",
       "      <th>duration_ms</th>\n",
       "      <th>end_of_fade_in</th>\n",
       "      <th>energy</th>\n",
       "      <th>instrumentalness</th>\n",
       "      <th>key</th>\n",
       "      <th>...</th>\n",
       "      <th>17</th>\n",
       "      <th>18</th>\n",
       "      <th>19</th>\n",
       "      <th>positive</th>\n",
       "      <th>negative</th>\n",
       "      <th>neutral</th>\n",
       "      <th>compound</th>\n",
       "      <th>song</th>\n",
       "      <th>artist</th>\n",
       "      <th>label</th>\n",
       "    </tr>\n",
       "  </thead>\n",
       "  <tbody>\n",
       "    <tr>\n",
       "      <th>4</th>\n",
       "      <td>0.000000</td>\n",
       "      <td>0.0</td>\n",
       "      <td>0.0</td>\n",
       "      <td>0.144201</td>\n",
       "      <td>0.000000</td>\n",
       "      <td>0.000000</td>\n",
       "      <td>1.000000</td>\n",
       "      <td>0.989770</td>\n",
       "      <td>0.000609</td>\n",
       "      <td>0.0</td>\n",
       "      <td>...</td>\n",
       "      <td>0.299055</td>\n",
       "      <td>0.111200</td>\n",
       "      <td>0.196880</td>\n",
       "      <td>0.328872</td>\n",
       "      <td>0.534462</td>\n",
       "      <td>0.249720</td>\n",
       "      <td>0.460676</td>\n",
       "      <td>American Idiot</td>\n",
       "      <td>Green Day</td>\n",
       "      <td>0</td>\n",
       "    </tr>\n",
       "    <tr>\n",
       "      <th>5</th>\n",
       "      <td>0.331812</td>\n",
       "      <td>0.0</td>\n",
       "      <td>0.0</td>\n",
       "      <td>0.068966</td>\n",
       "      <td>1.000000</td>\n",
       "      <td>1.000000</td>\n",
       "      <td>0.000000</td>\n",
       "      <td>0.523018</td>\n",
       "      <td>0.006845</td>\n",
       "      <td>0.8</td>\n",
       "      <td>...</td>\n",
       "      <td>0.456309</td>\n",
       "      <td>0.272603</td>\n",
       "      <td>0.000000</td>\n",
       "      <td>0.055762</td>\n",
       "      <td>0.593846</td>\n",
       "      <td>0.464995</td>\n",
       "      <td>0.008112</td>\n",
       "      <td>War Pigs</td>\n",
       "      <td>Ozzy Osbourne</td>\n",
       "      <td>0</td>\n",
       "    </tr>\n",
       "    <tr>\n",
       "      <th>9</th>\n",
       "      <td>0.000090</td>\n",
       "      <td>0.0</td>\n",
       "      <td>0.0</td>\n",
       "      <td>0.319749</td>\n",
       "      <td>0.404681</td>\n",
       "      <td>0.404682</td>\n",
       "      <td>0.000000</td>\n",
       "      <td>1.000000</td>\n",
       "      <td>0.000000</td>\n",
       "      <td>0.5</td>\n",
       "      <td>...</td>\n",
       "      <td>0.000000</td>\n",
       "      <td>0.898921</td>\n",
       "      <td>0.075792</td>\n",
       "      <td>0.579926</td>\n",
       "      <td>0.436923</td>\n",
       "      <td>0.107307</td>\n",
       "      <td>0.776927</td>\n",
       "      <td>Valhalla</td>\n",
       "      <td>Black Sabbath</td>\n",
       "      <td>0</td>\n",
       "    </tr>\n",
       "    <tr>\n",
       "      <th>12</th>\n",
       "      <td>0.025672</td>\n",
       "      <td>0.0</td>\n",
       "      <td>0.0</td>\n",
       "      <td>0.000000</td>\n",
       "      <td>0.250325</td>\n",
       "      <td>0.250327</td>\n",
       "      <td>0.100595</td>\n",
       "      <td>0.831202</td>\n",
       "      <td>0.439535</td>\n",
       "      <td>0.3</td>\n",
       "      <td>...</td>\n",
       "      <td>0.413908</td>\n",
       "      <td>0.874821</td>\n",
       "      <td>0.269387</td>\n",
       "      <td>0.204461</td>\n",
       "      <td>0.612308</td>\n",
       "      <td>0.282177</td>\n",
       "      <td>0.008963</td>\n",
       "      <td>The Trooper</td>\n",
       "      <td>Iron Maiden</td>\n",
       "      <td>0</td>\n",
       "    </tr>\n",
       "  </tbody>\n",
       "</table>\n",
       "<p>4 rows × 49 columns</p>\n",
       "</div>"
      ],
      "text/plain": [
       "    acousticness  analysis_channels  analysis_sample_rate  danceability  \\\n",
       "4       0.000000                0.0                   0.0      0.144201   \n",
       "5       0.331812                0.0                   0.0      0.068966   \n",
       "9       0.000090                0.0                   0.0      0.319749   \n",
       "12      0.025672                0.0                   0.0      0.000000   \n",
       "\n",
       "    duration  duration_ms  end_of_fade_in    energy  instrumentalness  key  \\\n",
       "4   0.000000     0.000000        1.000000  0.989770          0.000609  0.0   \n",
       "5   1.000000     1.000000        0.000000  0.523018          0.006845  0.8   \n",
       "9   0.404681     0.404682        0.000000  1.000000          0.000000  0.5   \n",
       "12  0.250325     0.250327        0.100595  0.831202          0.439535  0.3   \n",
       "\n",
       "    ...          17        18        19  positive  negative   neutral  \\\n",
       "4   ...    0.299055  0.111200  0.196880  0.328872  0.534462  0.249720   \n",
       "5   ...    0.456309  0.272603  0.000000  0.055762  0.593846  0.464995   \n",
       "9   ...    0.000000  0.898921  0.075792  0.579926  0.436923  0.107307   \n",
       "12  ...    0.413908  0.874821  0.269387  0.204461  0.612308  0.282177   \n",
       "\n",
       "    compound            song         artist  label  \n",
       "4   0.460676  American Idiot      Green Day      0  \n",
       "5   0.008112        War Pigs  Ozzy Osbourne      0  \n",
       "9   0.776927        Valhalla  Black Sabbath      0  \n",
       "12  0.008963     The Trooper    Iron Maiden      0  \n",
       "\n",
       "[4 rows x 49 columns]"
      ]
     },
     "execution_count": 135,
     "metadata": {},
     "output_type": "execute_result"
    }
   ],
   "source": [
    "df_with_sentiment[df_with_sentiment.label==1]"
   ]
  },
  {
   "cell_type": "code",
   "execution_count": 145,
   "metadata": {
    "scrolled": false
   },
   "outputs": [],
   "source": [
    "# Plotting silhouette score for assesing the relative goodness of clusters\n",
    "from sklearn.metrics import silhouette_score\n",
    "\n",
    "scores = []\n",
    "for num_clusters in range(2, 10):\n",
    "    kmeans = KMeans(n_clusters=num_clusters, random_state=0, max_iter=1000).fit(df_with_sentiment[dfcols + ['positive', 'negative', 'neutral', 'compound']])\n",
    "    scores.append(silhouette_score(df_with_sentiment[dfcols + ['positive', 'negative', 'neutral', 'compound']], kmeans.labels_))"
   ]
  },
  {
   "cell_type": "code",
   "execution_count": 148,
   "metadata": {},
   "outputs": [
    {
     "data": {
      "text/plain": [
       "[<matplotlib.lines.Line2D at 0x7fccfeb67e48>]"
      ]
     },
     "execution_count": 148,
     "metadata": {},
     "output_type": "execute_result"
    },
    {
     "data": {
      "image/png": "[encoded data removed]",
      "text/plain": [
       "<Figure size 432x288 with 1 Axes>"
      ]
     },
     "metadata": {},
     "output_type": "display_data"
    }
   ],
   "source": [
    "plt.plot(range(2, 10), scores)"
   ]
  },
  {
   "cell_type": "code",
   "execution_count": 169,
   "metadata": {},
   "outputs": [],
   "source": [
    "# Calculating Dunn Index\n",
    "req_cols = dfcols + ['positive', 'negative', 'neutral', 'compound'] + ['label']\n",
    "# Function to calculate eucledian distance\n",
    "def dist(a, b, ax=1):\n",
    "    return np.linalg.norm(a - b, axis=ax)\n",
    "\n",
    "def cal_intra_clstr_max_dist(df):\n",
    "    max_dist = 0\n",
    "    df = df[req_cols]\n",
    "    for label in df['label']:\n",
    "        d = df[df['label'] == label]\n",
    "        ct = list(d.columns)\n",
    "        ct.remove('label')\n",
    "        dv = d[ct].values\n",
    "        for X in dv:\n",
    "            distance = np.max(dist(X, dv))\n",
    "            if distance > max_dist:\n",
    "                max_dist = distance\n",
    "    \n",
    "    return max_dist\n",
    "\n",
    "def cal_ceteroid_dist(centeroids):\n",
    "    max_dist = 0\n",
    "    \n",
    "    for c in centeroids:\n",
    "        dis = np.delete(dist(c, centeroids), np.where(dist(c, centeroids) == 0))\n",
    "        distance = np.min(dis)\n",
    "        if distance > max_dist:\n",
    "            max_dist = distance\n",
    "    \n",
    "    return max_dist\n",
    "\n",
    "def cal_dunn_index(df, centeroids):\n",
    "    return cal_ceteroid_dist(centeroids) / cal_intra_clstr_max_dist(df)"
   ]
  },
  {
   "cell_type": "code",
   "execution_count": 171,
   "metadata": {},
   "outputs": [
    {
     "data": {
      "text/plain": [
       "[<matplotlib.lines.Line2D at 0x7fccfeac7ef0>]"
      ]
     },
     "execution_count": 171,
     "metadata": {},
     "output_type": "execute_result"
    },
    {
     "data": {
      "image/png": "[encoded data removed]",
      "text/plain": [
       "<Figure size 432x288 with 1 Axes>"
      ]
     },
     "metadata": {},
     "output_type": "display_data"
    }
   ],
   "source": [
    "scores = []\n",
    "for num_clusters in range(2, 10):\n",
    "    kmeans = KMeans(n_clusters=num_clusters, random_state=0, max_iter=1000).fit(df_with_sentiment[dfcols + ['positive', 'negative', 'neutral', 'compound']])\n",
    "    scores.append(cal_dunn_index(df_with_sentiment, kmeans.cluster_centers_))\n",
    "\n",
    "plt.plot(range(2, 10), scores)"
   ]
  },
  {
   "cell_type": "code",
   "execution_count": 152,
   "metadata": {},
   "outputs": [
    {
     "data": {
      "text/plain": [
       "array([0.496243200030614, 0.0, 0.0, 0.5203761755485893,\n",
       "       0.1804402237845456, 0.18044118732676995, 0.03720730323556717,\n",
       "       0.7902813299232736, 0.0, 0.9, 0.28088578088578087,\n",
       "       0.12248995983935741, 0.7934182433924759, 1.0, 0.380281690140845,\n",
       "       0.04303147077713551, 0.16331449466384695, 0.6296665947345704,\n",
       "       0.7269279393173199, 0.0, 0.6459627329192545, 0.46287157121542527,\n",
       "       0.5031343820780323, 0.0, 0.22810197881783897, 0.0,\n",
       "       0.34619054518719916, 1.0, 0.030047013386085286, 0.709099143853654,\n",
       "       0.25974357231930156, 1.0, 0.8608349210696451, 0.9663295658062678,\n",
       "       0.11932447620345354, 0.5600018773016888, 0.0, 0.47573342875827623,\n",
       "       0.4329051667446955, 0.5524355498839602, 0.3456127445501865,\n",
       "       0.4094194080875422, 1.0000000000000002, 0.061538461538461535,\n",
       "       0.13910119229593354, 1.0, 'Marry You', 'Bruno Mars', 1],\n",
       "      dtype=object)"
      ]
     },
     "execution_count": 152,
     "metadata": {},
     "output_type": "execute_result"
    }
   ],
   "source": [
    "df_with_sentiment.values[0]"
   ]
  },
  {
   "cell_type": "code",
   "execution_count": 153,
   "metadata": {},
   "outputs": [
    {
     "data": {
      "text/plain": [
       "['acousticness',\n",
       " 'analysis_channels',\n",
       " 'analysis_sample_rate',\n",
       " 'danceability',\n",
       " 'duration',\n",
       " 'duration_ms',\n",
       " 'end_of_fade_in',\n",
       " 'energy',\n",
       " 'instrumentalness',\n",
       " 'key',\n",
       " 'key_confidence',\n",
       " 'liveness',\n",
       " 'loudness',\n",
       " 'mode',\n",
       " 'mode_confidence',\n",
       " 'speechiness',\n",
       " 'start_of_fade_out',\n",
       " 'tempo',\n",
       " 'tempo_confidence',\n",
       " 'time_signature',\n",
       " 'time_signature_confidence',\n",
       " 'valence',\n",
       " 0,\n",
       " 1,\n",
       " 2,\n",
       " 3,\n",
       " 4,\n",
       " 5,\n",
       " 6,\n",
       " 7,\n",
       " 8,\n",
       " 9,\n",
       " 10,\n",
       " 11,\n",
       " 12,\n",
       " 13,\n",
       " 14,\n",
       " 15,\n",
       " 16,\n",
       " 17,\n",
       " 18,\n",
       " 19,\n",
       " 'positive',\n",
       " 'negative',\n",
       " 'neutral',\n",
       " 'compound']"
      ]
     },
     "execution_count": 153,
     "metadata": {},
     "output_type": "execute_result"
    }
   ],
   "source": []
  },
  {
   "cell_type": "code",
   "execution_count": 165,
   "metadata": {},
   "outputs": [],
   "source": [
    "a = np.array([0, 1, 2, 0, 0, 1, 0])"
   ]
  },
  {
   "cell_type": "code",
   "execution_count": 166,
   "metadata": {},
   "outputs": [
    {
     "data": {
      "text/plain": [
       "(array([0, 3, 4, 6]),)"
      ]
     },
     "execution_count": 166,
     "metadata": {},
     "output_type": "execute_result"
    }
   ],
   "source": [
    "np.where(a == 0)"
   ]
  },
  {
   "cell_type": "code",
   "execution_count": null,
   "metadata": {},
   "outputs": [],
   "source": []
  }
 ],
 "metadata": {
  "kernelspec": {
   "display_name": "Python 3",
   "language": "python",
   "name": "python3"
  },
  "language_info": {
   "codemirror_mode": {
    "name": "ipython",
    "version": 3
   },
   "file_extension": ".py",
   "mimetype": "text/x-python",
   "name": "python",
   "nbconvert_exporter": "python",
   "pygments_lexer": "ipython3",
   "version": "3.6.5"
  }
 },
 "nbformat": 4,
 "nbformat_minor": 2
}
