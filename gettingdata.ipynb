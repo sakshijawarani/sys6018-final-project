{
 "cells": [
  {
   "cell_type": "code",
   "execution_count": 50,
   "metadata": {},
   "outputs": [
    {
     "name": "stdout",
     "output_type": "stream",
     "text": [
      "[nltk_data] Downloading package punkt to /Users/user/nltk_data...\n",
      "[nltk_data]   Package punkt is already up-to-date!\n"
     ]
    }
   ],
   "source": [
    "# Initial Imports\n",
    "import pandas as pd\n",
    "import numpy as np\n",
    "import spotipy\n",
    "from spotipy.oauth2 import SpotifyClientCredentials\n",
    "import spotipy\n",
    "import matplotlib.pyplot as plt\n",
    "\n",
    "import warnings\n",
    "warnings.filterwarnings('ignore')\n",
    "\n",
    "import nltk\n",
    "nltk.download('punkt')\n",
    "from nltk.tokenize import RegexpTokenizer\n",
    "\n",
    "from vaderSentiment.vaderSentiment import SentimentIntensityAnalyzer\n",
    "\n",
    "from sklearn import preprocessing"
   ]
  },
  {
   "cell_type": "markdown",
   "metadata": {},
   "source": [
    "### Data Extraction And Cleaning"
   ]
  },
  {
   "cell_type": "code",
   "execution_count": 5,
   "metadata": {},
   "outputs": [],
   "source": [
    "# Read in lyrics data\n",
    "lyrics = pd.read_csv(\"data/songdata.csv\")"
   ]
  },
  {
   "cell_type": "code",
   "execution_count": 6,
   "metadata": {},
   "outputs": [],
   "source": [
    "# Required columns\n",
    "cols=['song', 'artist', 'trackid', 'danceability', 'energy', 'key', 'mode', \n",
    "      'speechiness', 'acousticness', 'instrumentalness', 'liveness', \n",
    "      'valence', 'tempo', 'duration_ms', 'time_signature',\n",
    "     'duration', 'analysis_sample_rate', 'analysis_channels', \n",
    "      'end_of_fade_in', 'start_of_fade_out', 'loudness', 'tempo', 'tempo_confidence', \n",
    "      'time_signature', 'time_signature_confidence', 'key', 'key_confidence', 'mode', 'mode_confidence']"
   ]
  },
  {
   "cell_type": "code",
   "execution_count": 7,
   "metadata": {},
   "outputs": [],
   "source": [
    "cols = list(np.unique(cols))"
   ]
  },
  {
   "cell_type": "code",
   "execution_count": 8,
   "metadata": {},
   "outputs": [],
   "source": [
    "# Creating dataframe for audio features\n",
    "features=pd.DataFrame(columns=cols)"
   ]
  },
  {
   "cell_type": "markdown",
   "metadata": {},
   "source": [
    "#### Getting Data Ready before Clustering"
   ]
  },
  {
   "cell_type": "code",
   "execution_count": 9,
   "metadata": {},
   "outputs": [],
   "source": [
    "artists = ['Eminem', 'Passenger', 'Bruno Mars', 'Coldplay', 'Ozzy Osbourne', 'Slayer','Metallica','Beatles','Dire Straits' ,'Radiohead', 'Taylor Swift', 'Aerosmith','Ed Sheeran', 'Drake', 'Pink Floyd', 'Queen', 'Billy Joel', 'Iron Maiden', 'Black Sabbath','Green Day' ]"
   ]
  },
  {
   "cell_type": "code",
   "execution_count": 10,
   "metadata": {},
   "outputs": [],
   "source": [
    "songs = ['Let It Be', 'Let Her Go','Hey Jude', '', 'Marry You','Yellow', 'The Lazy Song','Norwegian Wood', 'Wonderful Tonight',  'Imagine', 'I Knew You Were Trouble', 'Love Story', 'A Team', 'Sing', 'Bohemian Rhapsody', 'Electric Funeral', 'Valhalla', 'American Idiot', 'Angel Of Death', 'War Pigs', 'The Trooper']"
   ]
  },
  {
   "cell_type": "code",
   "execution_count": 11,
   "metadata": {},
   "outputs": [],
   "source": [
    "# Filtering on artist\n",
    "lyrics = lyrics[lyrics.artist.isin(artists)]\n",
    "# Select songs based on the list of songs or a list of artists or both\n",
    "songs_selected = lyrics[lyrics.song.isin(songs)]"
   ]
  },
  {
   "cell_type": "code",
   "execution_count": 12,
   "metadata": {},
   "outputs": [
    {
     "data": {
      "text/plain": [
       "(16, 4)"
      ]
     },
     "execution_count": 12,
     "metadata": {},
     "output_type": "execute_result"
    }
   ],
   "source": [
    "songs_selected.shape"
   ]
  },
  {
   "cell_type": "code",
   "execution_count": 13,
   "metadata": {},
   "outputs": [],
   "source": [
    "# sample dataframe is used for all analysis here on\n",
    "sample = songs_selected\n",
    "sample.reset_index(inplace=True)"
   ]
  },
  {
   "cell_type": "markdown",
   "metadata": {},
   "source": [
    "##### Extracting Audio Feautures using spotify API "
   ]
  },
  {
   "cell_type": "code",
   "execution_count": 14,
   "metadata": {},
   "outputs": [],
   "source": [
    "# Get audio features for the songs in the sample dataframe\n",
    "# Client Credentials\n",
    "client_id = \"5fc0da4106eb48e1913868f4950828fb\"\n",
    "client_secret = \"5a549bc4674e47dfaf3b06da4500a44d\"\n",
    "\n",
    "client_credentials_manager = SpotifyClientCredentials(client_id=client_id, client_secret=client_secret)\n",
    "sp = spotipy.Spotify(client_credentials_manager=client_credentials_manager)\n",
    "\n",
    "for index,row in sample.iterrows():\n",
    "    song = row['song']\n",
    "    \n",
    "    temp = pd.DataFrame(columns = cols)\n",
    "    temp['song'] = [song]\n",
    "    temp['artist'] = [row['artist']]\n",
    "    \n",
    "    try:\n",
    "        result = sp.search(song, type='track', limit=1)\n",
    "\n",
    "    except:\n",
    "        print('SOme error')\n",
    "        continue\n",
    "        \n",
    "    if len(result['tracks']['items']) == 0:\n",
    "        continue\n",
    "    \n",
    "    trackid=result['tracks']['items'][0]['id']\n",
    "    temp['trackid'] = [trackid]\n",
    "    \n",
    "    try:\n",
    "        feat=sp.audio_features(trackid)[0]\n",
    "        analysis=sp.audio_analysis(trackid)['track']\n",
    "    except error as e:\n",
    "        print(e)\n",
    "        continue\n",
    "    \n",
    "    combined = {**feat, **analysis}\n",
    "    \n",
    "    for col in cols:\n",
    "        if col in ['song', 'artist', 'trackid']:\n",
    "            continue\n",
    "        temp[col]= combined[col]\n",
    "        \n",
    "    features = features.append(temp, ignore_index=True)"
   ]
  },
  {
   "cell_type": "code",
   "execution_count": 15,
   "metadata": {},
   "outputs": [],
   "source": [
    "features = features.T.drop_duplicates().T"
   ]
  },
  {
   "cell_type": "markdown",
   "metadata": {},
   "source": [
    "##### Getting Word Vectors"
   ]
  },
  {
   "cell_type": "code",
   "execution_count": 17,
   "metadata": {},
   "outputs": [],
   "source": [
    "# Getting all text for training own word vectors\n",
    "all_text = ' '.join(lyrics.text)\n",
    "all_text = all_text.replace('\\n', '')\n",
    "sent_text = nltk.sent_tokenize(all_text)"
   ]
  },
  {
   "cell_type": "code",
   "execution_count": 18,
   "metadata": {},
   "outputs": [],
   "source": [
    "# Training and saving the word vec model\n",
    "wv_dimension = 20\n",
    "\n",
    "tokenizer = RegexpTokenizer(r'\\w+').tokenize\n",
    "\n",
    "sent_tokenized = []\n",
    "for sent in sent_text:\n",
    "    sent_tokenized.append(tokenizer(sent))\n",
    "    \n",
    "from gensim.models import Word2Vec\n",
    "from gensim.test.utils import common_texts, get_tmpfile\n",
    "\n",
    "path = get_tmpfile(\"word2vec.model\")\n",
    "model = Word2Vec(sent_tokenized, size=wv_dimension, window=5, min_count=3, workers=4)\n",
    "\n",
    "model.save(\"word2vec.model\")"
   ]
  },
  {
   "cell_type": "code",
   "execution_count": 36,
   "metadata": {},
   "outputs": [],
   "source": [
    "# Finding wv representation for the lyrics in the dataframe sample\n",
    "# Creating a dataframe wv with the word vectors\n",
    "wv = []\n",
    "for lyr in sample.text:\n",
    "    vec = [0] * wv_dimension\n",
    "    c = 0\n",
    "    words = tokenizer(lyr)\n",
    "    for word in words:\n",
    "        try:\n",
    "            vec = vec + model[word]\n",
    "            c = c + 1\n",
    "        except:\n",
    "            vec = vec + [0] * wv_dimension\n",
    "    vec = np.array(vec) / c\n",
    "    wv.append(vec)"
   ]
  },
  {
   "cell_type": "code",
   "execution_count": 37,
   "metadata": {},
   "outputs": [],
   "source": [
    "# Namingg the columns in wv to 1-wv_dimension\n",
    "req_cols = list(range(wv_dimension))\n",
    "wv_df = pd.DataFrame(wv)[req_cols]\n",
    "wv_df['song'] = sample['song']"
   ]
  },
  {
   "cell_type": "code",
   "execution_count": 38,
   "metadata": {},
   "outputs": [],
   "source": [
    "# Making a copy for preservation\n",
    "features_copy = features.copy()"
   ]
  },
  {
   "cell_type": "code",
   "execution_count": 39,
   "metadata": {},
   "outputs": [],
   "source": [
    "# Merging features and wv to get dataframe with audio features and the word vectors\n",
    "df_all = pd.merge(features, wv_df, how='left', on='song')\n",
    "# Removing empty rows\n",
    "df_all = df_all[df_all['trackid'] != 'NA']"
   ]
  },
  {
   "cell_type": "code",
   "execution_count": 40,
   "metadata": {},
   "outputs": [],
   "source": [
    "# Drop rows with NA values\n",
    "df_all = df_all.dropna()"
   ]
  },
  {
   "cell_type": "code",
   "execution_count": 41,
   "metadata": {},
   "outputs": [],
   "source": [
    "df_all.reset_index(inplace=True, drop=True)"
   ]
  },
  {
   "cell_type": "code",
   "execution_count": 42,
   "metadata": {},
   "outputs": [],
   "source": [
    "# Get a list of column in the consolidated dataframe\n",
    "cols = list(df_all.columns)"
   ]
  },
  {
   "cell_type": "code",
   "execution_count": 43,
   "metadata": {},
   "outputs": [],
   "source": [
    "# Remove columns not required for clustering\n",
    "cols.remove('song')\n",
    "cols.remove('artist')\n",
    "cols.remove('trackid')"
   ]
  },
  {
   "cell_type": "code",
   "execution_count": 45,
   "metadata": {},
   "outputs": [],
   "source": [
    "df=df_all"
   ]
  },
  {
   "cell_type": "code",
   "execution_count": 59,
   "metadata": {},
   "outputs": [],
   "source": [
    "dfcols = list(df.columns)"
   ]
  },
  {
   "cell_type": "code",
   "execution_count": 60,
   "metadata": {},
   "outputs": [],
   "source": [
    "# Removing unnecessary columns from the list of columns for clustering\n",
    "dfcols.remove('song')\n",
    "dfcols.remove('artist')\n",
    "dfcols.remove('trackid')"
   ]
  },
  {
   "cell_type": "markdown",
   "metadata": {},
   "source": [
    "#### Sentiment Analysis "
   ]
  },
  {
   "cell_type": "code",
   "execution_count": 61,
   "metadata": {},
   "outputs": [],
   "source": [
    "# Getting sentiment for the sample\n",
    "sentiment_data = pd.DataFrame(columns=['positive', 'negative', 'neutral', 'compound', 'song'])\n",
    "for index, row in sample.iterrows():\n",
    "    pos = []\n",
    "    neg = []\n",
    "    neu = []\n",
    "    compound = []\n",
    "    sentences=nltk.sent_tokenize(row.text)\n",
    "    analyzer = SentimentIntensityAnalyzer()\n",
    "    for sentence in sentences:\n",
    "        vs = analyzer.polarity_scores(sentence)\n",
    "        pos.append(vs['pos'])\n",
    "        neg.append(vs['neg'])\n",
    "        neu.append(vs['neu'])\n",
    "        compound.append(vs['compound'])\n",
    "    tmp = pd.DataFrame([[np.average(pos), np.average(neg), np.average(neu), np.average(compound), row['song']]], columns=['positive', 'negative', 'neutral', 'compound', 'song'])\n",
    "    sentiment_data = pd.concat([sentiment_data, tmp], ignore_index=True)"
   ]
  },
  {
   "cell_type": "code",
   "execution_count": 62,
   "metadata": {},
   "outputs": [],
   "source": [
    "# Merge the dataset to add sentiment calues\n",
    "df_with_sentiment = pd.merge(df_all, sentiment_data, how='left', on='song')"
   ]
  },
  {
   "cell_type": "code",
   "execution_count": 63,
   "metadata": {},
   "outputs": [],
   "source": [
    "# Scaling the dataframe\n",
    "x = df_with_sentiment[dfcols + ['positive', 'negative', 'neutral', 'compound']].values #returns a numpy array\n",
    "min_max_scaler = preprocessing.MinMaxScaler()\n",
    "x_scaled = min_max_scaler.fit_transform(x)\n",
    "df_with_sentiment = pd.DataFrame(x_scaled, columns=dfcols + ['positive', 'negative', 'neutral', 'compound'])\n",
    "df_with_sentiment['song'] = df_all['song']\n",
    "df_with_sentiment['artist'] = df_all['artist']"
   ]
  },
  {
   "cell_type": "markdown",
   "metadata": {},
   "source": [
    "### Clustering Using Hierarchical Clustering"
   ]
  },
  {
   "cell_type": "code",
   "execution_count": 64,
   "metadata": {},
   "outputs": [],
   "source": [
    "from sklearn.cluster import AgglomerativeClustering\n",
    "\n",
    "cluster = AgglomerativeClustering(n_clusters=3, affinity='euclidean', linkage='ward')  \n",
    "cluster.fit_predict(df_with_sentiment[dfcols + ['positive', 'negative', 'neutral', 'compound']])\n",
    "\n",
    "df_with_sentiment.label=cluster.labels_"
   ]
  },
  {
   "cell_type": "code",
   "execution_count": 65,
   "metadata": {},
   "outputs": [
    {
     "data": {
      "text/plain": [
       "['Marry You',\n",
       " 'The Lazy Song',\n",
       " 'Yellow',\n",
       " 'Let Her Go',\n",
       " 'I Knew You Were Trouble',\n",
       " 'Love Story',\n",
       " 'Sing',\n",
       " 'Bohemian Rhapsody']"
      ]
     },
     "execution_count": 65,
     "metadata": {},
     "output_type": "execute_result"
    }
   ],
   "source": [
    "list(df_with_sentiment[df_with_sentiment.label==0]['song'])"
   ]
  },
  {
   "cell_type": "code",
   "execution_count": 66,
   "metadata": {},
   "outputs": [
    {
     "data": {
      "text/plain": [
       "['American Idiot', 'War Pigs', 'Valhalla', 'The Trooper']"
      ]
     },
     "execution_count": 66,
     "metadata": {},
     "output_type": "execute_result"
    }
   ],
   "source": [
    "list(df_with_sentiment[df_with_sentiment.label==1]['song'])"
   ]
  },
  {
   "cell_type": "code",
   "execution_count": 67,
   "metadata": {},
   "outputs": [
    {
     "data": {
      "text/plain": [
       "['Wonderful Tonight', 'A Team']"
      ]
     },
     "execution_count": 67,
     "metadata": {},
     "output_type": "execute_result"
    }
   ],
   "source": [
    "list(df_with_sentiment[df_with_sentiment.label==2]['song'])"
   ]
  },
  {
   "cell_type": "markdown",
   "metadata": {},
   "source": [
    "### Clustering using Kmeans"
   ]
  },
  {
   "cell_type": "code",
   "execution_count": 80,
   "metadata": {},
   "outputs": [],
   "source": [
    "# Perform Kmeans on the consolidated scaled dataset\n",
    "from sklearn.cluster import KMeans\n",
    "kmeans = KMeans(n_clusters=3, random_state=0, max_iter=300).fit(df_with_sentiment[dfcols + ['positive', 'negative', 'neutral', 'compound']])\n",
    "df_with_sentiment['label'] = kmeans.labels_"
   ]
  },
  {
   "cell_type": "code",
   "execution_count": 81,
   "metadata": {},
   "outputs": [
    {
     "data": {
      "text/plain": [
       "['Marry You',\n",
       " 'The Lazy Song',\n",
       " 'Yellow',\n",
       " 'Let Her Go',\n",
       " 'I Knew You Were Trouble',\n",
       " 'Love Story',\n",
       " 'Sing',\n",
       " 'Bohemian Rhapsody']"
      ]
     },
     "execution_count": 81,
     "metadata": {},
     "output_type": "execute_result"
    }
   ],
   "source": [
    "list(df_with_sentiment[df_with_sentiment.label==0]['song'])"
   ]
  },
  {
   "cell_type": "code",
   "execution_count": 82,
   "metadata": {},
   "outputs": [
    {
     "data": {
      "text/plain": [
       "['American Idiot', 'War Pigs', 'Valhalla', 'The Trooper']"
      ]
     },
     "execution_count": 82,
     "metadata": {},
     "output_type": "execute_result"
    }
   ],
   "source": [
    "list(df_with_sentiment[df_with_sentiment.label==1]['song'])"
   ]
  },
  {
   "cell_type": "code",
   "execution_count": 83,
   "metadata": {},
   "outputs": [
    {
     "data": {
      "text/plain": [
       "['Wonderful Tonight', 'A Team']"
      ]
     },
     "execution_count": 83,
     "metadata": {},
     "output_type": "execute_result"
    }
   ],
   "source": [
    "list(df_with_sentiment[df_with_sentiment.label==2]['song'])"
   ]
  },
  {
   "cell_type": "markdown",
   "metadata": {},
   "source": [
    "#### Cluster Evaluation Metrics "
   ]
  },
  {
   "cell_type": "code",
   "execution_count": 86,
   "metadata": {
    "scrolled": false
   },
   "outputs": [],
   "source": [
    "# Plotting silhouette score for assesing the relative goodness of clusters\n",
    "from sklearn.metrics import silhouette_score\n",
    "\n",
    "scores = []\n",
    "for num_clusters in range(2, 10):\n",
    "    kmeans = KMeans(n_clusters=num_clusters, random_state=0, max_iter=1000).fit(df_with_sentiment[dfcols + ['positive', 'negative', 'neutral', 'compound']])\n",
    "    scores.append(silhouette_score(df_with_sentiment[dfcols + ['positive', 'negative', 'neutral', 'compound']], kmeans.labels_))"
   ]
  },
  {
   "cell_type": "code",
   "execution_count": 87,
   "metadata": {},
   "outputs": [
    {
     "data": {
      "text/plain": [
       "[<matplotlib.lines.Line2D at 0x1a252e4278>]"
      ]
     },
     "execution_count": 87,
     "metadata": {},
     "output_type": "execute_result"
    },
    {
     "data": {
      "image/png": "[encoded data removed]",
      "text/plain": [
       "<Figure size 432x288 with 1 Axes>"
      ]
     },
     "metadata": {},
     "output_type": "display_data"
    }
   ],
   "source": [
    "plt.plot(range(2, 10), scores)"
   ]
  },
  {
   "cell_type": "code",
   "execution_count": 88,
   "metadata": {},
   "outputs": [],
   "source": [
    "# Calculating Dunn Index\n",
    "req_cols = dfcols + ['positive', 'negative', 'neutral', 'compound'] + ['label']\n",
    "# Function to calculate eucledian distance\n",
    "def dist(a, b, ax=1):\n",
    "    return np.linalg.norm(a - b, axis=ax)\n",
    "\n",
    "def cal_intra_clstr_max_dist(df):\n",
    "    max_dist = 0\n",
    "    df = df[req_cols]\n",
    "    for label in df['label']:\n",
    "        d = df[df['label'] == label]\n",
    "        ct = list(d.columns)\n",
    "        ct.remove('label')\n",
    "        dv = d[ct].values\n",
    "        for X in dv:\n",
    "            distance = np.max(dist(X, dv))\n",
    "            if distance > max_dist:\n",
    "                max_dist = distance\n",
    "    \n",
    "    return max_dist\n",
    "\n",
    "def cal_ceteroid_dist(centeroids):\n",
    "    max_dist = 0\n",
    "    \n",
    "    for c in centeroids:\n",
    "        dis = np.delete(dist(c, centeroids), np.where(dist(c, centeroids) == 0))\n",
    "        distance = np.min(dis)\n",
    "        if distance > max_dist:\n",
    "            max_dist = distance\n",
    "    \n",
    "    return max_dist\n",
    "\n",
    "def cal_dunn_index(df, centeroids):\n",
    "    return cal_ceteroid_dist(centeroids) / cal_intra_clstr_max_dist(df)"
   ]
  },
  {
   "cell_type": "code",
   "execution_count": 89,
   "metadata": {},
   "outputs": [
    {
     "data": {
      "text/plain": [
       "[<matplotlib.lines.Line2D at 0x1a25251080>]"
      ]
     },
     "execution_count": 89,
     "metadata": {},
     "output_type": "execute_result"
    },
    {
     "data": {
      "image/png": "[encoded data removed]",
      "text/plain": [
       "<Figure size 432x288 with 1 Axes>"
      ]
     },
     "metadata": {},
     "output_type": "display_data"
    }
   ],
   "source": [
    "scores = []\n",
    "for num_clusters in range(2, 10):\n",
    "    kmeans = KMeans(n_clusters=num_clusters, random_state=0, max_iter=1000).fit(df_with_sentiment[dfcols + ['positive', 'negative', 'neutral', 'compound']])\n",
    "    scores.append(cal_dunn_index(df_with_sentiment, kmeans.cluster_centers_))\n",
    "\n",
    "plt.plot(range(2, 10), scores)"
   ]
  },
  {
   "cell_type": "code",
   "execution_count": null,
   "metadata": {},
   "outputs": [],
   "source": []
  }
 ],
 "metadata": {
  "kernelspec": {
   "display_name": "Python 3",
   "language": "python",
   "name": "python3"
  },
  "language_info": {
   "codemirror_mode": {
    "name": "ipython",
    "version": 3
   },
   "file_extension": ".py",
   "mimetype": "text/x-python",
   "name": "python",
   "nbconvert_exporter": "python",
   "pygments_lexer": "ipython3",
   "version": "3.6.5"
  }
 },
 "nbformat": 4,
 "nbformat_minor": 2
}
