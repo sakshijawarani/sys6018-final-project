{
 "cells": [
  {
   "cell_type": "code",
   "execution_count": null,
   "metadata": {},
   "outputs": [],
   "source": [
    "# Initial Imports\n",
    "import pandas as pd\n",
    "import numpy as np\n",
    "import spotipy\n",
    "from spotipy.oauth2 import SpotifyClientCredentials\n",
    "import spotipy"
   ]
  },
  {
   "cell_type": "code",
   "execution_count": null,
   "metadata": {},
   "outputs": [],
   "source": [
    "# Read in lyrics data\n",
    "lyrics = pd.read_csv(\"data/songdata.csv\")"
   ]
  },
  {
   "cell_type": "code",
   "execution_count": null,
   "metadata": {},
   "outputs": [],
   "source": [
    "# Required columns\n",
    "cols=['song', 'artist', 'trackid', 'danceability', 'energy', 'key', 'mode', \n",
    "      'speechiness', 'acousticness', 'instrumentalness', 'liveness', \n",
    "      'valence', 'tempo', 'duration_ms', 'time_signature',\n",
    "     'duration', 'analysis_sample_rate', 'analysis_channels', \n",
    "      'end_of_fade_in', 'start_of_fade_out', 'loudness', 'tempo', 'tempo_confidence', \n",
    "      'time_signature', 'time_signature_confidence', 'key', 'key_confidence', 'mode', 'mode_confidence']"
   ]
  },
  {
   "cell_type": "code",
   "execution_count": null,
   "metadata": {},
   "outputs": [],
   "source": [
    "# Creating dataframe for audio features\n",
    "features=pd.DataFrame(columns=cols)"
   ]
  },
  {
   "cell_type": "code",
   "execution_count": null,
   "metadata": {},
   "outputs": [],
   "source": [
    "# Client Credentials\n",
    "client_id = \"5fc0da4106eb48e1913868f4950828fb\"\n",
    "client_secret = \"5a549bc4674e47dfaf3b06da4500a44d\"\n",
    "\n",
    "client_credentials_manager = SpotifyClientCredentials(client_id=client_id, client_secret=client_secret)\n",
    "sp = spotipy.Spotify(client_credentials_manager=client_credentials_manager)\n",
    "\n",
    "for index,row in lyrics.head(1000).iterrows():\n",
    "    song = row['song']\n",
    "    \n",
    "    temp = pd.DataFrame(columns = cols)\n",
    "    temp['song'] = [song]\n",
    "    temp['artist'] = [row['artist']]\n",
    "    \n",
    "    result = sp.search(song, type='track', limit=1)\n",
    "\n",
    "    \n",
    "    if len(result['tracks']['items']) == 0:\n",
    "        temp['trackid'] = ['NA']\n",
    "        features = features.append(temp, ignore_index=True)\n",
    "        continue\n",
    "    \n",
    "    trackid=result['tracks']['items'][0]['id']\n",
    "    temp['trackid'] = [trackid]\n",
    "    \n",
    "    feat=sp.audio_features(trackid)[0]\n",
    "    analysis=sp.audio_analysis(trackid)['track']\n",
    "    combined = {**feat, **analysis}\n",
    "    \n",
    "    for col in cols:\n",
    "        if col in ['song', 'artist', 'trackid']:\n",
    "            continue\n",
    "        temp[col]= combined[col]\n",
    "        \n",
    "    features = features.append(temp, ignore_index=True)"
   ]
  },
  {
   "cell_type": "code",
   "execution_count": null,
   "metadata": {},
   "outputs": [],
   "source": [
    "# Removing empty rows\n",
    "features = features[features['trackid'] != 'NA']"
   ]
  },
  {
   "cell_type": "code",
   "execution_count": null,
   "metadata": {},
   "outputs": [],
   "source": [
    "# Making a copy for preservation\n",
    "features_copy = features.copy()"
   ]
  },
  {
   "cell_type": "code",
   "execution_count": null,
   "metadata": {},
   "outputs": [],
   "source": [
    "# Remove columns for clustering\n",
    "features = features.reset_index()\n",
    "cols.remove('song')\n",
    "cols.remove('artist')\n",
    "cols.remove('trackid')"
   ]
  },
  {
   "cell_type": "code",
   "execution_count": null,
   "metadata": {},
   "outputs": [],
   "source": [
    "# Kmeans\n",
    "from sklearn.cluster import KMeans\n",
    "kmeans = KMeans(n_clusters=10, random_state=0).fit(features[cols])\n",
    "features['label'] = kmeans.labels_"
   ]
  },
  {
   "cell_type": "code",
   "execution_count": null,
   "metadata": {},
   "outputs": [],
   "source": []
  }
 ],
 "metadata": {
  "kernelspec": {
   "display_name": "Python 3",
   "language": "python",
   "name": "python3"
  },
  "language_info": {
   "codemirror_mode": {
    "name": "ipython",
    "version": 3
   },
   "file_extension": ".py",
   "mimetype": "text/x-python",
   "name": "python",
   "nbconvert_exporter": "python",
   "pygments_lexer": "ipython3",
   "version": "3.6.5"
  }
 },
 "nbformat": 4,
 "nbformat_minor": 2
}
